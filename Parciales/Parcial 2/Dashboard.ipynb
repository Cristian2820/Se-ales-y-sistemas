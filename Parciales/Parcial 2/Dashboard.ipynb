{
  "cells": [
    {
      "cell_type": "markdown",
      "metadata": {
        "id": "view-in-github",
        "colab_type": "text"
      },
      "source": [
        "<a href=\"https://colab.research.google.com/github/Cristian2820/Senales-y-sistemas/blob/main/Parciales/Parcial%202/Dashboard.ipynb\" target=\"_parent\"><img src=\"https://colab.research.google.com/assets/colab-badge.svg\" alt=\"Open In Colab\"/></a>"
      ]
    },
    {
      "cell_type": "code",
      "execution_count": null,
      "metadata": {
        "colab": {
          "base_uri": "https://localhost:8080/"
        },
        "id": "eYbvvDsOeJIZ",
        "outputId": "1e26381b-60ac-476a-ffad-7fa8acacbbf2"
      },
      "outputs": [
        {
          "output_type": "stream",
          "name": "stdout",
          "text": [
            "\u001b[K\u001b[?25h\n",
            "up to date, audited 23 packages in 473ms\n",
            "\n",
            "3 packages are looking for funding\n",
            "  run `npm fund` for details\n",
            "\n",
            "2 \u001b[33m\u001b[1mmoderate\u001b[22m\u001b[39m severity vulnerabilities\n",
            "\n",
            "To address all issues (including breaking changes), run:\n",
            "  npm audit fix --force\n",
            "\n",
            "Run `npm audit` for details.\n",
            "Collecting https://github.com/yt-dlp/yt-dlp/archive/master.tar.gz\n",
            "  Using cached https://github.com/yt-dlp/yt-dlp/archive/master.tar.gz\n",
            "  Installing build dependencies ... \u001b[?25l\u001b[?25hdone\n",
            "  Getting requirements to build wheel ... \u001b[?25l\u001b[?25hdone\n",
            "  Preparing metadata (pyproject.toml) ... \u001b[?25l\u001b[?25hdone\n",
            "Collecting brotli (from yt-dlp==2024.8.6)\n",
            "  Using cached Brotli-1.1.0-cp310-cp310-manylinux_2_5_x86_64.manylinux1_x86_64.manylinux_2_12_x86_64.manylinux2010_x86_64.whl.metadata (5.5 kB)\n",
            "Collecting certifi (from yt-dlp==2024.8.6)\n",
            "  Using cached certifi-2024.8.30-py3-none-any.whl.metadata (2.2 kB)\n",
            "Collecting mutagen (from yt-dlp==2024.8.6)\n",
            "  Using cached mutagen-1.47.0-py3-none-any.whl.metadata (1.7 kB)\n",
            "Collecting pycryptodomex (from yt-dlp==2024.8.6)\n",
            "  Using cached pycryptodomex-3.20.0-cp35-abi3-manylinux_2_17_x86_64.manylinux2014_x86_64.whl.metadata (3.4 kB)\n",
            "Collecting requests<3,>=2.32.2 (from yt-dlp==2024.8.6)\n",
            "  Using cached requests-2.32.3-py3-none-any.whl.metadata (4.6 kB)\n",
            "Collecting urllib3<3,>=1.26.17 (from yt-dlp==2024.8.6)\n",
            "  Using cached urllib3-2.2.2-py3-none-any.whl.metadata (6.4 kB)\n",
            "Collecting websockets>=13.0 (from yt-dlp==2024.8.6)\n",
            "  Using cached websockets-13.0.1-cp310-cp310-manylinux_2_5_x86_64.manylinux1_x86_64.manylinux_2_17_x86_64.manylinux2014_x86_64.whl.metadata (6.7 kB)\n",
            "Collecting charset-normalizer<4,>=2 (from requests<3,>=2.32.2->yt-dlp==2024.8.6)\n",
            "  Using cached charset_normalizer-3.3.2-cp310-cp310-manylinux_2_17_x86_64.manylinux2014_x86_64.whl.metadata (33 kB)\n",
            "Collecting idna<4,>=2.5 (from requests<3,>=2.32.2->yt-dlp==2024.8.6)\n",
            "  Using cached idna-3.8-py3-none-any.whl.metadata (9.9 kB)\n",
            "Using cached requests-2.32.3-py3-none-any.whl (64 kB)\n",
            "Using cached certifi-2024.8.30-py3-none-any.whl (167 kB)\n",
            "Using cached urllib3-2.2.2-py3-none-any.whl (121 kB)\n",
            "Using cached websockets-13.0.1-cp310-cp310-manylinux_2_5_x86_64.manylinux1_x86_64.manylinux_2_17_x86_64.manylinux2014_x86_64.whl (157 kB)\n",
            "Using cached Brotli-1.1.0-cp310-cp310-manylinux_2_5_x86_64.manylinux1_x86_64.manylinux_2_12_x86_64.manylinux2010_x86_64.whl (3.0 MB)\n",
            "Using cached mutagen-1.47.0-py3-none-any.whl (194 kB)\n",
            "Using cached pycryptodomex-3.20.0-cp35-abi3-manylinux_2_17_x86_64.manylinux2014_x86_64.whl (2.1 MB)\n",
            "Using cached charset_normalizer-3.3.2-cp310-cp310-manylinux_2_17_x86_64.manylinux2014_x86_64.whl (142 kB)\n",
            "Using cached idna-3.8-py3-none-any.whl (66 kB)\n",
            "Building wheels for collected packages: yt-dlp\n",
            "  Building wheel for yt-dlp (pyproject.toml) ... \u001b[?25l\u001b[?25hdone\n",
            "  Created wheel for yt-dlp: filename=yt_dlp-2024.8.6-py3-none-any.whl size=2883112 sha256=f4b8a5aa523b7ef26fd7bc3b0a6a7050c1871ca1cd3624e3df5e1c19ce64ae89\n",
            "  Stored in directory: /tmp/pip-ephem-wheel-cache-dkt6v_1s/wheels/4c/91/d1/c5369304e2f7afb660bb6eee093af5a7d3c0ea05a3c1e8c797\n",
            "Successfully built yt-dlp\n",
            "Installing collected packages: brotli, websockets, urllib3, pycryptodomex, mutagen, idna, charset-normalizer, certifi, requests, yt-dlp\n",
            "  Attempting uninstall: brotli\n",
            "    Found existing installation: Brotli 1.1.0\n",
            "    Uninstalling Brotli-1.1.0:\n",
            "      Successfully uninstalled Brotli-1.1.0\n",
            "  Attempting uninstall: websockets\n",
            "    Found existing installation: websockets 13.0.1\n",
            "    Uninstalling websockets-13.0.1:\n",
            "      Successfully uninstalled websockets-13.0.1\n",
            "  Attempting uninstall: urllib3\n",
            "    Found existing installation: urllib3 2.2.2\n",
            "    Uninstalling urllib3-2.2.2:\n",
            "      Successfully uninstalled urllib3-2.2.2\n",
            "  Attempting uninstall: pycryptodomex\n",
            "    Found existing installation: pycryptodomex 3.20.0\n",
            "    Uninstalling pycryptodomex-3.20.0:\n",
            "      Successfully uninstalled pycryptodomex-3.20.0\n",
            "  Attempting uninstall: mutagen\n",
            "    Found existing installation: mutagen 1.47.0\n",
            "    Uninstalling mutagen-1.47.0:\n",
            "      Successfully uninstalled mutagen-1.47.0\n",
            "  Attempting uninstall: idna\n",
            "    Found existing installation: idna 3.8\n",
            "    Uninstalling idna-3.8:\n",
            "      Successfully uninstalled idna-3.8\n",
            "  Attempting uninstall: charset-normalizer\n",
            "    Found existing installation: charset-normalizer 3.3.2\n",
            "    Uninstalling charset-normalizer-3.3.2:\n",
            "      Successfully uninstalled charset-normalizer-3.3.2\n",
            "  Attempting uninstall: certifi\n",
            "    Found existing installation: certifi 2024.8.30\n",
            "    Uninstalling certifi-2024.8.30:\n",
            "      Successfully uninstalled certifi-2024.8.30\n",
            "  Attempting uninstall: requests\n",
            "    Found existing installation: requests 2.32.3\n",
            "    Uninstalling requests-2.32.3:\n",
            "      Successfully uninstalled requests-2.32.3\n",
            "  Attempting uninstall: yt-dlp\n",
            "    Found existing installation: yt-dlp 2024.8.6\n",
            "    Uninstalling yt-dlp-2024.8.6:\n",
            "      Successfully uninstalled yt-dlp-2024.8.6\n",
            "Successfully installed brotli-1.1.0 certifi-2024.8.30 charset-normalizer-3.3.2 idna-3.8 mutagen-1.47.0 pycryptodomex-3.20.0 requests-2.32.3 urllib3-2.2.2 websockets-13.0.1 yt-dlp-2024.8.6\n",
            "Requirement already satisfied: pyngrok in /usr/local/lib/python3.10/dist-packages (7.2.0)\n",
            "Requirement already satisfied: PyYAML>=5.1 in /usr/local/lib/python3.10/dist-packages (from pyngrok) (6.0.2)\n"
          ]
        }
      ],
      "source": [
        "!pip install streamlit -q #instalación de librerías\n",
        "!npm install localtunnel\n",
        "!python3 -m pip install --force-reinstall https://github.com/yt-dlp/yt-dlp/archive/master.tar.gz\n",
        "!pip install pyngrok"
      ]
    },
    {
      "cell_type": "code",
      "execution_count": null,
      "metadata": {
        "colab": {
          "base_uri": "https://localhost:8080/"
        },
        "id": "QezzHqv0e8p2",
        "outputId": "cac5149e-a991-44c5-bc31-030f8e502fbd"
      },
      "outputs": [
        {
          "output_type": "stream",
          "name": "stdout",
          "text": [
            "Overwriting Punto2.py\n"
          ]
        }
      ],
      "source": [
        "%%writefile Punto2.py\n",
        "#Código Dashboard\n",
        "import streamlit as st\n",
        "import pandas as pd\n",
        "import numpy as np\n",
        "import os\n",
        "import subprocess\n",
        "import soundfile as sf\n",
        "import matplotlib.pyplot as plt\n",
        "from sklearn.preprocessing import MinMaxScaler\n",
        "from sklearn.manifold import TSNE\n",
        "import joblib\n",
        "import matplotlib.pyplot as plt\n",
        "from scipy.fft import fft, fftfreq\n",
        "\n",
        "import numpy as np\n",
        "import matplotlib.pyplot as plt\n",
        "import streamlit as st\n",
        "\n",
        "# Título de la aplicación\n",
        "st.title('Parcial 2 20204-1')\n",
        "\n",
        "# Descripción o texto en la app\n",
        "st.write(\"Punto 2\")\n",
        "\n",
        "# Ingreso de la amplitud A y la frecuencia Fo\n",
        "A = float(st.text_input(\"Ingrese un valor de entero positivo para A:\", value=1))\n",
        "Fo = float(st.text_input(\"Ingrese un valor de frecuencia positiva para Fo:\", value=1))\n",
        "\n",
        "# Simulación de la señal de entrada\n",
        "ti = -1 / (2 * Fo)  # tiempo inicial\n",
        "tf = 1 / (2 * Fo)   # tiempo final\n",
        "T = tf - ti         # periodo total (duración del intervalo)\n",
        "wo = 2 * np.pi / T  # frecuencia angular\n",
        "st.write('Frecuencia angular (wo):', wo)\n",
        "st.write('Frecuencia (Fo):', Fo)\n",
        "\n",
        "Fs = 30 * Fo  # frecuencia de muestreo (respetar Nyquist, Fs >= 2Fo)\n",
        "tv = np.arange(ti, tf, 1 / Fs)  # vector de tiempo\n",
        "Nm = len(tv)  # número de muestras en el tiempo\n",
        "\n",
        "# Señal de entrada |A sin(2πF_ot)|^2\n",
        "xo = abs(A * np.sin(2 * np.pi * Fo * tv))**2  # señal |A sin(2πF_ot)|^2\n",
        "\n",
        "# Gráfico de la señal\n",
        "st.write(\"Gráfica de la señal de entrada:\")\n",
        "st.line_chart(xo)\n",
        "\n",
        "# Simulación del espectro y la reconstrucción\n",
        "# Construcción de bases serie exponencial\n",
        "N = 10  # número de armónicos\n",
        "wo = 2 * np.pi / T  # frecuencia fundamental\n",
        "\n",
        "# Definir bases\n",
        "phin = np.zeros((Nm, 2 * N + 1), dtype=np.complex_)  # matriz para guardar bases\n",
        "for n in range(-N, N + 1, 1):\n",
        "    phin[:, n + N] = np.exp(1j * n * wo * tv)  # base de Fourier en el intervalo de interés\n",
        "\n",
        "# Espectro de la señal - Serie exponencial\n",
        "# Calcular el espectro para la señal |A sin(2πF_ot)|^2\n",
        "Cn = np.zeros(2 * N + 1, dtype=np.complex_)\n",
        "nv = np.linspace(-N, N, 2 * N + 1)  # vector de número de armónicos\n",
        "Cn[N] = A**2 / 2  # nivel DC C_0\n",
        "Cn[N - 2] = A**2 / 4  # armónico en -2\n",
        "Cn[N + 2] = A**2 / 4  # armónico en +2\n",
        "\n",
        "# Convertir la magnitud del espectro a decibelios\n",
        "magnitud_dB = 20 * np.log10(abs(Cn) + 1e-12)  # +1e-12 para evitar logaritmo de cero\n",
        "\n",
        "# Graficar espectro: Magnitud en dB, Fase, Parte Real y Parte Imaginaria\n",
        "st.write(\"Espectro de la señal:\")\n",
        "\n",
        "fig, axs = plt.subplots(2, 2, figsize=(10, 10))\n",
        "\n",
        "# Magnitud en decibelios\n",
        "axs[0, 0].stem(nv, magnitud_dB, 'r', use_line_collection=True)\n",
        "axs[0, 0].set_xlabel(r'$nw_o$[rad/s]')\n",
        "axs[0, 0].set_ylabel('Magnitud [dB]')\n",
        "axs[0, 0].set_title('Magnitud del Espectro en Decibelios')\n",
        "axs[0, 0].grid()\n",
        "\n",
        "# Fase en radianes\n",
        "axs[0, 1].stem(nv, np.angle(Cn), 'r', use_line_collection=True)\n",
        "axs[0, 1].set_xlabel(r'$nw_o$[rad/s]')\n",
        "axs[0, 1].set_ylabel('Fase [rad]')\n",
        "axs[0, 1].set_title('Fase del Espectro')\n",
        "axs[0, 1].grid()\n",
        "\n",
        "# Parte Real\n",
        "axs[1, 0].stem(nv, np.real(Cn), 'b', use_line_collection=True)\n",
        "axs[1, 0].set_xlabel(r'$nw_o$[rad/s]')\n",
        "axs[1, 0].set_ylabel('Real$\\{C_n\\}$')\n",
        "axs[1, 0].set_title('Parte Real del Espectro')\n",
        "axs[1, 0].grid()\n",
        "\n",
        "# Parte Imaginaria\n",
        "axs[1, 1].stem(nv, np.imag(Cn), 'g', use_line_collection=True)\n",
        "axs[1, 1].set_xlabel(r'$nw_o$[rad/s]')\n",
        "axs[1, 1].set_ylabel('Imaginario$\\{C_n\\}$')\n",
        "axs[1, 1].set_title('Parte Imaginaria del Espectro')\n",
        "axs[1, 1].grid()\n",
        "\n",
        "st.pyplot(fig)\n",
        "\n",
        "# Reconstrucción de la señal usando las bases de Fourier\n",
        "x_reconstruida = np.zeros(Nm, dtype=np.complex_)  # Definir como complejo\n",
        "for n in range(-N, N + 1):\n",
        "    x_reconstruida += Cn[n + N] * np.exp(1j * n * wo * tv)\n",
        "x_reconstruida = np.real(x_reconstruida)  # Solo la parte real\n",
        "\n",
        "# Cálculo del error relativo\n",
        "error_relativo = np.abs(xo - x_reconstruida) / np.abs(xo)\n",
        "\n",
        "# Graficar error relativo\n",
        "st.write(\"Error relativo entre la señal original y la reconstruida:\")\n",
        "st.line_chart(error_relativo)\n",
        "\n",
        "# Mostrar el error relativo máximo y promedio\n",
        "st.write(f\"Error relativo máximo: {np.max(error_relativo):.4f}\")\n",
        "st.write(f\"Error relativo promedio: {np.mean(error_relativo):.4f}\")\n"
      ]
    },
    {
      "cell_type": "code",
      "source": [
        "token=\"2loMihbb5sGRhDJt5EHXjiJaVsd_3tHfRgkUbZitpjScYWL4G\""
      ],
      "metadata": {
        "id": "irg6A80r_xo7"
      },
      "execution_count": null,
      "outputs": []
    },
    {
      "cell_type": "code",
      "source": [
        "from pyngrok import ngrok\n",
        "\n",
        "# Set authentication token (unique per user)\n",
        "ngrok.set_auth_token(token)\n",
        "\n",
        "# Start Streamlit server on a specific port\n",
        "!nohup streamlit run Punto2.py --server.port 5011 &\n",
        "\n",
        "# Start ngrok tunnel to expose the Streamlit server\n",
        "ngrok_tunnel = ngrok.connect(addr='5011', proto='http', bind_tls=True)\n",
        "\n",
        "# Print the URL of the ngrok tunnel\n",
        "print(' * Tunnel URL:', ngrok_tunnel.public_url)"
      ],
      "metadata": {
        "colab": {
          "base_uri": "https://localhost:8080/"
        },
        "id": "EJtWx4b__zhU",
        "outputId": "8ad224d6-b04f-47e5-ff38-d918296d1e1f"
      },
      "execution_count": null,
      "outputs": [
        {
          "output_type": "stream",
          "name": "stdout",
          "text": [
            "nohup: appending output to 'nohup.out'\n",
            " * Tunnel URL: https://a3ab-34-125-231-142.ngrok-free.app\n"
          ]
        }
      ]
    },
    {
      "cell_type": "code",
      "execution_count": null,
      "metadata": {
        "id": "4GLTI_mehES8"
      },
      "outputs": [],
      "source": [
        "#!streamlit run Punto2.py &>/content/logs.txt & curl ipv4.icanhazip.com #Password del Dashboard"
      ]
    },
    {
      "cell_type": "code",
      "execution_count": null,
      "metadata": {
        "id": "rHYiJTz9hEF0"
      },
      "outputs": [],
      "source": [
        "#!npx localtunnel --port 8501 #Link del Dashboard"
      ]
    }
  ],
  "metadata": {
    "colab": {
      "provenance": [],
      "include_colab_link": true
    },
    "kernelspec": {
      "display_name": "Python 3",
      "name": "python3"
    },
    "language_info": {
      "name": "python"
    }
  },
  "nbformat": 4,
  "nbformat_minor": 0
}