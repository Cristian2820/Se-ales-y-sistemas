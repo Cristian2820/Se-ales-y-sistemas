{
  "cells": [
    {
      "cell_type": "markdown",
      "metadata": {
        "id": "view-in-github",
        "colab_type": "text"
      },
      "source": [
        "<a href=\"https://colab.research.google.com/github/Cristian2820/Senales-y-sistemas/blob/main/Parciales/Parcial%202/Dashboard.ipynb\" target=\"_parent\"><img src=\"https://colab.research.google.com/assets/colab-badge.svg\" alt=\"Open In Colab\"/></a>"
      ]
    },
    {
      "cell_type": "markdown",
      "source": [
        "#Punto 2"
      ],
      "metadata": {
        "id": "9-PHyM2fz0ca"
      }
    },
    {
      "cell_type": "markdown",
      "source": [
        "Este conjunto de comandos instala herramientas clave para desarrollar y compartir aplicaciones web locales. Primero, Streamlit permite crear aplicaciones interactivas en Python sin necesidad de experiencia en desarrollo web. Luego, localtunnel expone servidores locales a través de una URL pública, facilitando compartir la aplicación con otros sin configuraciones de red complicadas. El comando siguiente reinstala yt-dlp, una herramienta para descargar videos de plataformas como YouTube. Finalmente, pyngrok ofrece una manera simple de compartir aplicaciones locales en la web usando una URL temporal generada por ngrok."
      ],
      "metadata": {
        "id": "7k2fUzuq5bbk"
      }
    },
    {
      "cell_type": "code",
      "execution_count": null,
      "metadata": {
        "colab": {
          "base_uri": "https://localhost:8080/"
        },
        "id": "eYbvvDsOeJIZ",
        "outputId": "98e3ce68-8e80-4515-b3f5-898b133b504e"
      },
      "outputs": [
        {
          "output_type": "stream",
          "name": "stdout",
          "text": [
            "\u001b[2K   \u001b[90m━━━━━━━━━━━━━━━━━━━━━━━━━━━━━━━━━━━━━━━━\u001b[0m \u001b[32m8.7/8.7 MB\u001b[0m \u001b[31m50.1 MB/s\u001b[0m eta \u001b[36m0:00:00\u001b[0m\n",
            "\u001b[2K   \u001b[90m━━━━━━━━━━━━━━━━━━━━━━━━━━━━━━━━━━━━━━━━\u001b[0m \u001b[32m207.3/207.3 kB\u001b[0m \u001b[31m12.0 MB/s\u001b[0m eta \u001b[36m0:00:00\u001b[0m\n",
            "\u001b[2K   \u001b[90m━━━━━━━━━━━━━━━━━━━━━━━━━━━━━━━━━━━━━━━━\u001b[0m \u001b[32m6.9/6.9 MB\u001b[0m \u001b[31m65.7 MB/s\u001b[0m eta \u001b[36m0:00:00\u001b[0m\n",
            "\u001b[2K   \u001b[90m━━━━━━━━━━━━━━━━━━━━━━━━━━━━━━━━━━━━━━━━\u001b[0m \u001b[32m82.9/82.9 kB\u001b[0m \u001b[31m5.4 MB/s\u001b[0m eta \u001b[36m0:00:00\u001b[0m\n",
            "\u001b[2K   \u001b[90m━━━━━━━━━━━━━━━━━━━━━━━━━━━━━━━━━━━━━━━━\u001b[0m \u001b[32m62.7/62.7 kB\u001b[0m \u001b[31m4.5 MB/s\u001b[0m eta \u001b[36m0:00:00\u001b[0m\n",
            "\u001b[K\u001b[?25h\n",
            "added 22 packages, and audited 23 packages in 2s\n",
            "\n",
            "3 packages are looking for funding\n",
            "  run `npm fund` for details\n",
            "\n",
            "2 \u001b[33m\u001b[1mmoderate\u001b[22m\u001b[39m severity vulnerabilities\n",
            "\n",
            "To address all issues, run:\n",
            "  npm audit fix\n",
            "\n",
            "Run `npm audit` for details.\n",
            "Collecting https://github.com/yt-dlp/yt-dlp/archive/master.tar.gz\n",
            "  Downloading https://github.com/yt-dlp/yt-dlp/archive/master.tar.gz\n",
            "\u001b[2K     \u001b[32m/\u001b[0m \u001b[32m2.7 MB\u001b[0m \u001b[31m9.5 MB/s\u001b[0m \u001b[33m0:00:00\u001b[0m\n",
            "\u001b[?25h  Installing build dependencies ... \u001b[?25l\u001b[?25hdone\n",
            "  Getting requirements to build wheel ... \u001b[?25l\u001b[?25hdone\n",
            "  Preparing metadata (pyproject.toml) ... \u001b[?25l\u001b[?25hdone\n",
            "Collecting brotli (from yt-dlp==2024.8.6)\n",
            "  Downloading Brotli-1.1.0-cp310-cp310-manylinux_2_5_x86_64.manylinux1_x86_64.manylinux_2_12_x86_64.manylinux2010_x86_64.whl.metadata (5.5 kB)\n",
            "Collecting certifi (from yt-dlp==2024.8.6)\n",
            "  Using cached certifi-2024.8.30-py3-none-any.whl.metadata (2.2 kB)\n",
            "Collecting mutagen (from yt-dlp==2024.8.6)\n",
            "  Downloading mutagen-1.47.0-py3-none-any.whl.metadata (1.7 kB)\n",
            "Collecting pycryptodomex (from yt-dlp==2024.8.6)\n",
            "  Downloading pycryptodomex-3.20.0-cp35-abi3-manylinux_2_17_x86_64.manylinux2014_x86_64.whl.metadata (3.4 kB)\n",
            "Collecting requests<3,>=2.32.2 (from yt-dlp==2024.8.6)\n",
            "  Using cached requests-2.32.3-py3-none-any.whl.metadata (4.6 kB)\n",
            "Collecting urllib3<3,>=1.26.17 (from yt-dlp==2024.8.6)\n",
            "  Downloading urllib3-2.2.2-py3-none-any.whl.metadata (6.4 kB)\n",
            "Collecting websockets>=13.0 (from yt-dlp==2024.8.6)\n",
            "  Downloading websockets-13.0.1-cp310-cp310-manylinux_2_5_x86_64.manylinux1_x86_64.manylinux_2_17_x86_64.manylinux2014_x86_64.whl.metadata (6.7 kB)\n",
            "Collecting charset-normalizer<4,>=2 (from requests<3,>=2.32.2->yt-dlp==2024.8.6)\n",
            "  Using cached charset_normalizer-3.3.2-cp310-cp310-manylinux_2_17_x86_64.manylinux2014_x86_64.whl.metadata (33 kB)\n",
            "Collecting idna<4,>=2.5 (from requests<3,>=2.32.2->yt-dlp==2024.8.6)\n",
            "  Using cached idna-3.8-py3-none-any.whl.metadata (9.9 kB)\n",
            "Using cached requests-2.32.3-py3-none-any.whl (64 kB)\n",
            "Using cached certifi-2024.8.30-py3-none-any.whl (167 kB)\n",
            "Downloading urllib3-2.2.2-py3-none-any.whl (121 kB)\n",
            "\u001b[2K   \u001b[90m━━━━━━━━━━━━━━━━━━━━━━━━━━━━━━━━━━━━━━━━\u001b[0m \u001b[32m121.4/121.4 kB\u001b[0m \u001b[31m3.5 MB/s\u001b[0m eta \u001b[36m0:00:00\u001b[0m\n",
            "\u001b[?25hDownloading websockets-13.0.1-cp310-cp310-manylinux_2_5_x86_64.manylinux1_x86_64.manylinux_2_17_x86_64.manylinux2014_x86_64.whl (157 kB)\n",
            "\u001b[2K   \u001b[90m━━━━━━━━━━━━━━━━━━━━━━━━━━━━━━━━━━━━━━━━\u001b[0m \u001b[32m157.3/157.3 kB\u001b[0m \u001b[31m10.4 MB/s\u001b[0m eta \u001b[36m0:00:00\u001b[0m\n",
            "\u001b[?25hDownloading Brotli-1.1.0-cp310-cp310-manylinux_2_5_x86_64.manylinux1_x86_64.manylinux_2_12_x86_64.manylinux2010_x86_64.whl (3.0 MB)\n",
            "\u001b[2K   \u001b[90m━━━━━━━━━━━━━━━━━━━━━━━━━━━━━━━━━━━━━━━━\u001b[0m \u001b[32m3.0/3.0 MB\u001b[0m \u001b[31m47.6 MB/s\u001b[0m eta \u001b[36m0:00:00\u001b[0m\n",
            "\u001b[?25hDownloading mutagen-1.47.0-py3-none-any.whl (194 kB)\n",
            "\u001b[2K   \u001b[90m━━━━━━━━━━━━━━━━━━━━━━━━━━━━━━━━━━━━━━━━\u001b[0m \u001b[32m194.4/194.4 kB\u001b[0m \u001b[31m11.5 MB/s\u001b[0m eta \u001b[36m0:00:00\u001b[0m\n",
            "\u001b[?25hDownloading pycryptodomex-3.20.0-cp35-abi3-manylinux_2_17_x86_64.manylinux2014_x86_64.whl (2.1 MB)\n",
            "\u001b[2K   \u001b[90m━━━━━━━━━━━━━━━━━━━━━━━━━━━━━━━━━━━━━━━━\u001b[0m \u001b[32m2.1/2.1 MB\u001b[0m \u001b[31m67.2 MB/s\u001b[0m eta \u001b[36m0:00:00\u001b[0m\n",
            "\u001b[?25hUsing cached charset_normalizer-3.3.2-cp310-cp310-manylinux_2_17_x86_64.manylinux2014_x86_64.whl (142 kB)\n",
            "Using cached idna-3.8-py3-none-any.whl (66 kB)\n",
            "Building wheels for collected packages: yt-dlp\n",
            "  Building wheel for yt-dlp (pyproject.toml) ... \u001b[?25l\u001b[?25hdone\n",
            "  Created wheel for yt-dlp: filename=yt_dlp-2024.8.6-py3-none-any.whl size=2883112 sha256=f4b8a5aa523b7ef26fd7bc3b0a6a7050c1871ca1cd3624e3df5e1c19ce64ae89\n",
            "  Stored in directory: /tmp/pip-ephem-wheel-cache-3jsd5g0f/wheels/4c/91/d1/c5369304e2f7afb660bb6eee093af5a7d3c0ea05a3c1e8c797\n",
            "Successfully built yt-dlp\n",
            "Installing collected packages: brotli, websockets, urllib3, pycryptodomex, mutagen, idna, charset-normalizer, certifi, requests, yt-dlp\n",
            "  Attempting uninstall: urllib3\n",
            "    Found existing installation: urllib3 2.0.7\n",
            "    Uninstalling urllib3-2.0.7:\n",
            "      Successfully uninstalled urllib3-2.0.7\n",
            "  Attempting uninstall: idna\n",
            "    Found existing installation: idna 3.8\n",
            "    Uninstalling idna-3.8:\n",
            "      Successfully uninstalled idna-3.8\n",
            "  Attempting uninstall: charset-normalizer\n",
            "    Found existing installation: charset-normalizer 3.3.2\n",
            "    Uninstalling charset-normalizer-3.3.2:\n",
            "      Successfully uninstalled charset-normalizer-3.3.2\n",
            "  Attempting uninstall: certifi\n",
            "    Found existing installation: certifi 2024.8.30\n",
            "    Uninstalling certifi-2024.8.30:\n",
            "      Successfully uninstalled certifi-2024.8.30\n",
            "  Attempting uninstall: requests\n",
            "    Found existing installation: requests 2.32.3\n",
            "    Uninstalling requests-2.32.3:\n",
            "      Successfully uninstalled requests-2.32.3\n",
            "Successfully installed brotli-1.1.0 certifi-2024.8.30 charset-normalizer-3.3.2 idna-3.8 mutagen-1.47.0 pycryptodomex-3.20.0 requests-2.32.3 urllib3-2.2.2 websockets-13.0.1 yt-dlp-2024.8.6\n",
            "Collecting pyngrok\n",
            "  Downloading pyngrok-7.2.0-py3-none-any.whl.metadata (7.4 kB)\n",
            "Requirement already satisfied: PyYAML>=5.1 in /usr/local/lib/python3.10/dist-packages (from pyngrok) (6.0.2)\n",
            "Downloading pyngrok-7.2.0-py3-none-any.whl (22 kB)\n",
            "Installing collected packages: pyngrok\n",
            "Successfully installed pyngrok-7.2.0\n"
          ]
        }
      ],
      "source": [
        "!pip install streamlit -q #instalación de librerías\n",
        "!npm install localtunnel\n",
        "!python3 -m pip install --force-reinstall https://github.com/yt-dlp/yt-dlp/archive/master.tar.gz\n",
        "!pip install pyngrok"
      ]
    },
    {
      "cell_type": "markdown",
      "source": [
        "Este código configura una aplicación en Streamlit que permite a los usuarios ingresar parámetros para simular una señal periódica. Calcula la señal utilizando la amplitud y la frecuencia proporcionadas, y muestra la señal generada en un gráfico de línea. Luego, calcula el espectro de la señal mediante una serie exponencial de Fourier, representando la magnitud en decibelios, la fase, y las partes real e imaginaria del espectro en gráficos separados. Además, reconstruye la señal original a partir de sus componentes de Fourier y evalúa el error relativo entre la señal original y la reconstruida, mostrando este error en un gráfico y proporcionando estadísticas sobre el error máximo y promedio."
      ],
      "metadata": {
        "id": "Ct9lkAJb50Xp"
      }
    },
    {
      "cell_type": "code",
      "execution_count": null,
      "metadata": {
        "colab": {
          "base_uri": "https://localhost:8080/"
        },
        "id": "QezzHqv0e8p2",
        "outputId": "e22b5bd5-3ddf-4e86-cf8e-335fde340448"
      },
      "outputs": [
        {
          "output_type": "stream",
          "name": "stdout",
          "text": [
            "Writing Punto2.py\n"
          ]
        }
      ],
      "source": [
        "%%writefile Punto2.py\n",
        "#Código Dashboard\n",
        "import streamlit as st\n",
        "import pandas as pd\n",
        "import numpy as np\n",
        "import os\n",
        "import subprocess\n",
        "import soundfile as sf\n",
        "import matplotlib.pyplot as plt\n",
        "from sklearn.preprocessing import MinMaxScaler\n",
        "from sklearn.manifold import TSNE\n",
        "import joblib\n",
        "import matplotlib.pyplot as plt\n",
        "from scipy.fft import fft, fftfreq\n",
        "\n",
        "import numpy as np\n",
        "import matplotlib.pyplot as plt\n",
        "import streamlit as st\n",
        "\n",
        "# Título de la aplicación\n",
        "st.title('Análisis y Reconstrucción de Señales Periódicas con Serie de Fourier')\n",
        "\n",
        "# Descripción o texto en la app\n",
        "st.write(\"Punto 2\")\n",
        "\n",
        "# Ingreso de la amplitud A y la frecuencia Fo\n",
        "A = float(st.text_input(\"Ingrese un valor de entero positivo para A:\", value=1))\n",
        "Fo = float(st.text_input(\"Ingrese un valor de frecuencia positiva para Fo:\", value=1))\n",
        "\n",
        "# Simulación de la señal de entrada\n",
        "ti = -1 / (2 * Fo)  # tiempo inicial\n",
        "tf = 1 / (2 * Fo)   # tiempo final\n",
        "T = tf - ti         # periodo total (duración del intervalo)\n",
        "wo = 2 * np.pi / T  # frecuencia angular\n",
        "st.write('Frecuencia angular (wo):', wo)\n",
        "st.write('Frecuencia (Fo):', Fo)\n",
        "\n",
        "Fs = 30 * Fo  # frecuencia de muestreo (respetar Nyquist, Fs >= 2Fo)\n",
        "tv = np.arange(ti, tf, 1 / Fs)  # vector de tiempo\n",
        "Nm = len(tv)  # número de muestras en el tiempo\n",
        "\n",
        "# Señal de entrada |A sin(2πF_ot)|^2\n",
        "xo = abs(A * np.sin(2 * np.pi * Fo * tv))**2  # señal |A sin(2πF_ot)|^2\n",
        "\n",
        "# Gráfico de la señal\n",
        "st.write(\"Gráfica de la señal de entrada:\")\n",
        "st.line_chart(xo)\n",
        "\n",
        "# Simulación del espectro y la reconstrucción\n",
        "# Construcción de bases serie exponencial\n",
        "N = 10  # número de armónicos\n",
        "wo = 2 * np.pi / T  # frecuencia fundamental\n",
        "\n",
        "# Definir bases\n",
        "phin = np.zeros((Nm, 2 * N + 1), dtype=np.complex_)  # matriz para guardar bases\n",
        "for n in range(-N, N + 1, 1):\n",
        "    phin[:, n + N] = np.exp(1j * n * wo * tv)  # base de Fourier en el intervalo de interés\n",
        "\n",
        "# Espectro de la señal - Serie exponencial\n",
        "# Calcular el espectro para la señal |A sin(2πF_ot)|^2\n",
        "Cn = np.zeros(2 * N + 1, dtype=np.complex_)\n",
        "nv = np.linspace(-N, N, 2 * N + 1)  # vector de número de armónicos\n",
        "Cn[N] = A**2 / 2  # nivel DC C_0\n",
        "Cn[N - 2] = A**2 / 4  # armónico en -2\n",
        "Cn[N + 2] = A**2 / 4  # armónico en +2\n",
        "\n",
        "# Convertir la magnitud del espectro a decibelios\n",
        "magnitud_dB = 20 * np.log10(abs(Cn) + 1e-12)  # +1e-12 para evitar logaritmo de cero\n",
        "\n",
        "# Graficar espectro: Magnitud en dB, Fase, Parte Real y Parte Imaginaria\n",
        "st.write(\"Espectro de la señal:\")\n",
        "\n",
        "fig, axs = plt.subplots(2, 2, figsize=(10, 10))\n",
        "\n",
        "# Magnitud en decibelios\n",
        "axs[0, 0].stem(nv, magnitud_dB, 'r', use_line_collection=True)\n",
        "axs[0, 0].set_xlabel(r'$nw_o$[rad/s]')\n",
        "axs[0, 0].set_ylabel('Magnitud [dB]')\n",
        "axs[0, 0].set_title('Magnitud del Espectro en Decibelios')\n",
        "axs[0, 0].grid()\n",
        "\n",
        "# Fase en radianes\n",
        "axs[0, 1].stem(nv, np.angle(Cn), 'r', use_line_collection=True)\n",
        "axs[0, 1].set_xlabel(r'$nw_o$[rad/s]')\n",
        "axs[0, 1].set_ylabel('Fase [rad]')\n",
        "axs[0, 1].set_title('Fase del Espectro')\n",
        "axs[0, 1].grid()\n",
        "\n",
        "# Parte Real\n",
        "axs[1, 0].stem(nv, np.real(Cn), 'b', use_line_collection=True)\n",
        "axs[1, 0].set_xlabel(r'$nw_o$[rad/s]')\n",
        "axs[1, 0].set_ylabel('Real$\\{C_n\\}$')\n",
        "axs[1, 0].set_title('Parte Real del Espectro')\n",
        "axs[1, 0].grid()\n",
        "\n",
        "# Parte Imaginaria\n",
        "axs[1, 1].stem(nv, np.imag(Cn), 'g', use_line_collection=True)\n",
        "axs[1, 1].set_xlabel(r'$nw_o$[rad/s]')\n",
        "axs[1, 1].set_ylabel('Imaginario$\\{C_n\\}$')\n",
        "axs[1, 1].set_title('Parte Imaginaria del Espectro')\n",
        "axs[1, 1].grid()\n",
        "\n",
        "st.pyplot(fig)\n",
        "\n",
        "# Reconstrucción de la señal usando las bases de Fourier\n",
        "x_reconstruida = np.zeros(Nm, dtype=np.complex_)  # Definir como complejo\n",
        "for n in range(-N, N + 1):\n",
        "    x_reconstruida += Cn[n + N] * np.exp(1j * n * wo * tv)\n",
        "x_reconstruida = np.real(x_reconstruida)  # Solo la parte real\n",
        "\n",
        "# Cálculo del error relativo\n",
        "error_relativo = np.abs(xo - x_reconstruida) / np.abs(xo)\n",
        "\n",
        "# Graficar error relativo\n",
        "st.write(\"Error relativo entre la señal original y la reconstruida:\")\n",
        "st.line_chart(error_relativo)\n",
        "\n",
        "# Mostrar el error relativo máximo y promedio\n",
        "st.write(f\"Error relativo máximo: {np.max(error_relativo):.4f}\")\n",
        "st.write(f\"Error relativo promedio: {np.mean(error_relativo):.4f}\")\n"
      ]
    },
    {
      "cell_type": "markdown",
      "source": [
        "El código mencionado incluye un token, que es una clave de acceso utilizada para autenticar o autorizar solicitudes a un servicio o API. Estos tokens suelen ser generados por plataformas para dar acceso a aplicaciones o usuarios sin necesidad de compartir contraseñas. En este caso, el token se utilizaría en un script o aplicación para acceder a un servicio externo de forma segura. Es crucial mantener este tipo de tokens privados para evitar accesos no autorizados a servicios o cuentas."
      ],
      "metadata": {
        "id": "s1q6QM2s5pfT"
      }
    },
    {
      "cell_type": "code",
      "source": [
        "token=\"2lmAC6DGxB9xF06bq6Js7K7IZQK_5T6aE4rBZBp6hDqefow8M\""
      ],
      "metadata": {
        "id": "irg6A80r_xo7"
      },
      "execution_count": null,
      "outputs": []
    },
    {
      "cell_type": "markdown",
      "source": [
        "Este código utiliza pyngrok para exponer una aplicación de Streamlit al público. Primero, configura el token de autenticación de ngrok, luego ejecuta la aplicación Streamlit en el puerto 5011 en segundo plano. Después, establece un túnel público con ngrok para que la aplicación sea accesible a través de una URL temporal. Finalmente, imprime esta URL para que pueda ser utilizada para acceder a la aplicación desde cualquier lugar."
      ],
      "metadata": {
        "id": "PvR_iL2J5h0f"
      }
    },
    {
      "cell_type": "code",
      "source": [
        "from pyngrok import ngrok\n",
        "\n",
        "# Set authentication token (unique per user)\n",
        "ngrok.set_auth_token(token)\n",
        "\n",
        "# Start Streamlit server on a specific port\n",
        "!nohup streamlit run Punto2.py --server.port 5011 &\n",
        "\n",
        "# Start ngrok tunnel to expose the Streamlit server\n",
        "ngrok_tunnel = ngrok.connect(addr='5011', proto='http', bind_tls=True)\n",
        "\n",
        "# Print the URL of the ngrok tunnel\n",
        "print(' * Tunnel URL:', ngrok_tunnel.public_url)"
      ],
      "metadata": {
        "colab": {
          "base_uri": "https://localhost:8080/"
        },
        "id": "EJtWx4b__zhU",
        "outputId": "38166c8b-58d3-44ef-822f-7d15d90b176c"
      },
      "execution_count": null,
      "outputs": [
        {
          "output_type": "stream",
          "name": "stdout",
          "text": [
            "nohup: appending output to 'nohup.out'\n",
            " * Tunnel URL: https://15c6-104-196-212-111.ngrok-free.app\n"
          ]
        }
      ]
    },
    {
      "cell_type": "markdown",
      "source": [
        "#Punto 3"
      ],
      "metadata": {
        "id": "2U1EMkPl0q0e"
      }
    },
    {
      "cell_type": "markdown",
      "source": [
        "Este conjunto de comandos instala herramientas clave para desarrollar y compartir aplicaciones web locales. Primero, Streamlit permite crear aplicaciones interactivas en Python sin necesidad de experiencia en desarrollo web. Luego, localtunnel expone servidores locales a través de una URL pública, facilitando compartir la aplicación con otros sin configuraciones de red complicadas. El comando siguiente reinstala yt-dlp, una herramienta para descargar videos de plataformas como YouTube. Finalmente, pyngrok ofrece una manera simple de compartir aplicaciones locales en la web usando una URL temporal generada por ngrok."
      ],
      "metadata": {
        "id": "KcMQnzzU5Xtb"
      }
    },
    {
      "cell_type": "code",
      "source": [
        "!pip install streamlit -q #instalación de librerías\n",
        "!npm install localtunnel\n",
        "!python3 -m pip install --force-reinstall https://github.com/yt-dlp/yt-dlp/archive/master.tar.gz\n",
        "!pip install pyngrok"
      ],
      "metadata": {
        "colab": {
          "base_uri": "https://localhost:8080/"
        },
        "id": "ydev7mmQ0uUw",
        "outputId": "7324d630-57ca-4638-a260-16c1a090bee4"
      },
      "execution_count": null,
      "outputs": [
        {
          "output_type": "stream",
          "name": "stdout",
          "text": [
            "\u001b[K\u001b[?25h\n",
            "up to date, audited 23 packages in 669ms\n",
            "\n",
            "3 packages are looking for funding\n",
            "  run `npm fund` for details\n",
            "\n",
            "2 \u001b[33m\u001b[1mmoderate\u001b[22m\u001b[39m severity vulnerabilities\n",
            "\n",
            "To address all issues (including breaking changes), run:\n",
            "  npm audit fix --force\n",
            "\n",
            "Run `npm audit` for details.\n",
            "Collecting https://github.com/yt-dlp/yt-dlp/archive/master.tar.gz\n",
            "  Using cached https://github.com/yt-dlp/yt-dlp/archive/master.tar.gz\n",
            "  Installing build dependencies ... \u001b[?25l\u001b[?25hdone\n",
            "  Getting requirements to build wheel ... \u001b[?25l\u001b[?25hdone\n",
            "  Preparing metadata (pyproject.toml) ... \u001b[?25l\u001b[?25hdone\n",
            "Collecting brotli (from yt-dlp==2024.8.6)\n",
            "  Using cached Brotli-1.1.0-cp310-cp310-manylinux_2_5_x86_64.manylinux1_x86_64.manylinux_2_12_x86_64.manylinux2010_x86_64.whl.metadata (5.5 kB)\n",
            "Collecting certifi (from yt-dlp==2024.8.6)\n",
            "  Using cached certifi-2024.8.30-py3-none-any.whl.metadata (2.2 kB)\n",
            "Collecting mutagen (from yt-dlp==2024.8.6)\n",
            "  Using cached mutagen-1.47.0-py3-none-any.whl.metadata (1.7 kB)\n",
            "Collecting pycryptodomex (from yt-dlp==2024.8.6)\n",
            "  Using cached pycryptodomex-3.20.0-cp35-abi3-manylinux_2_17_x86_64.manylinux2014_x86_64.whl.metadata (3.4 kB)\n",
            "Collecting requests<3,>=2.32.2 (from yt-dlp==2024.8.6)\n",
            "  Using cached requests-2.32.3-py3-none-any.whl.metadata (4.6 kB)\n",
            "Collecting urllib3<3,>=1.26.17 (from yt-dlp==2024.8.6)\n",
            "  Using cached urllib3-2.2.2-py3-none-any.whl.metadata (6.4 kB)\n",
            "Collecting websockets>=13.0 (from yt-dlp==2024.8.6)\n",
            "  Using cached websockets-13.0.1-cp310-cp310-manylinux_2_5_x86_64.manylinux1_x86_64.manylinux_2_17_x86_64.manylinux2014_x86_64.whl.metadata (6.7 kB)\n",
            "Collecting charset-normalizer<4,>=2 (from requests<3,>=2.32.2->yt-dlp==2024.8.6)\n",
            "  Using cached charset_normalizer-3.3.2-cp310-cp310-manylinux_2_17_x86_64.manylinux2014_x86_64.whl.metadata (33 kB)\n",
            "Collecting idna<4,>=2.5 (from requests<3,>=2.32.2->yt-dlp==2024.8.6)\n",
            "  Using cached idna-3.8-py3-none-any.whl.metadata (9.9 kB)\n",
            "Using cached requests-2.32.3-py3-none-any.whl (64 kB)\n",
            "Using cached certifi-2024.8.30-py3-none-any.whl (167 kB)\n",
            "Using cached urllib3-2.2.2-py3-none-any.whl (121 kB)\n",
            "Using cached websockets-13.0.1-cp310-cp310-manylinux_2_5_x86_64.manylinux1_x86_64.manylinux_2_17_x86_64.manylinux2014_x86_64.whl (157 kB)\n",
            "Using cached Brotli-1.1.0-cp310-cp310-manylinux_2_5_x86_64.manylinux1_x86_64.manylinux_2_12_x86_64.manylinux2010_x86_64.whl (3.0 MB)\n",
            "Using cached mutagen-1.47.0-py3-none-any.whl (194 kB)\n",
            "Using cached pycryptodomex-3.20.0-cp35-abi3-manylinux_2_17_x86_64.manylinux2014_x86_64.whl (2.1 MB)\n",
            "Using cached charset_normalizer-3.3.2-cp310-cp310-manylinux_2_17_x86_64.manylinux2014_x86_64.whl (142 kB)\n",
            "Using cached idna-3.8-py3-none-any.whl (66 kB)\n",
            "Building wheels for collected packages: yt-dlp\n",
            "  Building wheel for yt-dlp (pyproject.toml) ... \u001b[?25l\u001b[?25hdone\n",
            "  Created wheel for yt-dlp: filename=yt_dlp-2024.8.6-py3-none-any.whl size=2883112 sha256=f4b8a5aa523b7ef26fd7bc3b0a6a7050c1871ca1cd3624e3df5e1c19ce64ae89\n",
            "  Stored in directory: /tmp/pip-ephem-wheel-cache-nlbobw0n/wheels/4c/91/d1/c5369304e2f7afb660bb6eee093af5a7d3c0ea05a3c1e8c797\n",
            "Successfully built yt-dlp\n",
            "Installing collected packages: brotli, websockets, urllib3, pycryptodomex, mutagen, idna, charset-normalizer, certifi, requests, yt-dlp\n",
            "  Attempting uninstall: brotli\n",
            "    Found existing installation: Brotli 1.1.0\n",
            "    Uninstalling Brotli-1.1.0:\n",
            "      Successfully uninstalled Brotli-1.1.0\n",
            "  Attempting uninstall: websockets\n",
            "    Found existing installation: websockets 13.0.1\n",
            "    Uninstalling websockets-13.0.1:\n",
            "      Successfully uninstalled websockets-13.0.1\n",
            "  Attempting uninstall: urllib3\n",
            "    Found existing installation: urllib3 2.2.2\n",
            "    Uninstalling urllib3-2.2.2:\n",
            "      Successfully uninstalled urllib3-2.2.2\n",
            "  Attempting uninstall: pycryptodomex\n",
            "    Found existing installation: pycryptodomex 3.20.0\n",
            "    Uninstalling pycryptodomex-3.20.0:\n",
            "      Successfully uninstalled pycryptodomex-3.20.0\n",
            "  Attempting uninstall: mutagen\n",
            "    Found existing installation: mutagen 1.47.0\n",
            "    Uninstalling mutagen-1.47.0:\n",
            "      Successfully uninstalled mutagen-1.47.0\n",
            "  Attempting uninstall: idna\n",
            "    Found existing installation: idna 3.8\n",
            "    Uninstalling idna-3.8:\n",
            "      Successfully uninstalled idna-3.8\n",
            "  Attempting uninstall: charset-normalizer\n",
            "    Found existing installation: charset-normalizer 3.3.2\n",
            "    Uninstalling charset-normalizer-3.3.2:\n",
            "      Successfully uninstalled charset-normalizer-3.3.2\n",
            "  Attempting uninstall: certifi\n",
            "    Found existing installation: certifi 2024.8.30\n",
            "    Uninstalling certifi-2024.8.30:\n",
            "      Successfully uninstalled certifi-2024.8.30\n",
            "  Attempting uninstall: requests\n",
            "    Found existing installation: requests 2.32.3\n",
            "    Uninstalling requests-2.32.3:\n",
            "      Successfully uninstalled requests-2.32.3\n",
            "  Attempting uninstall: yt-dlp\n",
            "    Found existing installation: yt-dlp 2024.8.6\n",
            "    Uninstalling yt-dlp-2024.8.6:\n",
            "      Successfully uninstalled yt-dlp-2024.8.6\n",
            "Successfully installed brotli-1.1.0 certifi-2024.8.30 charset-normalizer-3.3.2 idna-3.8 mutagen-1.47.0 pycryptodomex-3.20.0 requests-2.32.3 urllib3-2.2.2 websockets-13.0.1 yt-dlp-2024.8.6\n",
            "Requirement already satisfied: pyngrok in /usr/local/lib/python3.10/dist-packages (7.2.0)\n",
            "Requirement already satisfied: PyYAML>=5.1 in /usr/local/lib/python3.10/dist-packages (from pyngrok) (6.0.2)\n"
          ]
        }
      ]
    },
    {
      "cell_type": "markdown",
      "source": [
        "Este código implementa una aplicación en Streamlit que facilita el manejo de archivos de audio descargados desde YouTube y la realización de análisis de modulación de amplitud (AM). La aplicación permite a los usuarios subir un archivo Excel con enlaces a videos de YouTube, del cual descarga y convierte el primer video a formato MP3 y luego a WAV. Posteriormente, carga el archivo WAV, reproduce un segmento de 5 segundos y extrae un canal del audio para usarlo como mensaje en la modulación. Genera una señal portadora de 15 kHz, muestra tanto la portadora como el mensaje en un gráfico y realiza la modulación AM. Finalmente, calcula y grafica los espectros de la señal portadora, el mensaje y la señal modulada en AM, ofreciendo una visión completa del proceso de modulación y sus características en el dominio de la frecuencia.\n",
        "\n",
        "\n",
        "\n",
        "\n",
        "\n",
        "\n",
        "\n"
      ],
      "metadata": {
        "id": "LXZlR8JF6Muu"
      }
    },
    {
      "cell_type": "code",
      "source": [
        "%%writefile Punto3.py\n",
        "import os\n",
        "import yt_dlp as youtube_dl\n",
        "import subprocess\n",
        "import soundfile as sf\n",
        "import pandas as pd\n",
        "import numpy as np\n",
        "import matplotlib.pyplot as plt\n",
        "import streamlit as st\n",
        "\n",
        "# Título de la aplicación\n",
        "st.title('Análisis y Modulación de Audio desde YouTube: Descarga, Conversión y Análisis en Streamlit')\n",
        "\n",
        "# Descripción o texto en la app\n",
        "st.write(\"Punto 3:\")\n",
        "\n",
        "# Función para descargar mp3 desde YouTube\n",
        "def download_ytvid_as_mp3(video_url, name):\n",
        "    video_info = youtube_dl.YoutubeDL().extract_info(url=video_url, download=False)\n",
        "    filename = f\"{name}.mp3\"\n",
        "    options = {\n",
        "        'format': 'bestaudio/best',\n",
        "        'keepvideo': False,\n",
        "        'outtmpl': filename,\n",
        "    }\n",
        "    with youtube_dl.YoutubeDL(options) as ydl:\n",
        "        ydl.download([video_info['webpage_url']])\n",
        "    return filename\n",
        "\n",
        "# Subir archivo Excel con enlaces a videos de YouTube\n",
        "uploaded_file = st.file_uploader(\"Sube un archivo Excel con enlaces de YouTube\", type=\"xlsx\")\n",
        "\n",
        "if uploaded_file:\n",
        "    X = pd.read_excel(uploaded_file)\n",
        "    st.write(\"Primeras filas del archivo:\")\n",
        "    st.dataframe(X.head())\n",
        "\n",
        "    # Crear carpeta para resultados\n",
        "    os.makedirs(\"results\", exist_ok=True)\n",
        "\n",
        "    # Descargar y procesar el primer video\n",
        "    n = 0  # Usamos el primer video para el ejemplo\n",
        "    name_ = f'results/{X.loc[n, \"band\"]}_{n}_{X.loc[n, \"type_num\"]}'\n",
        "    st.write(f\"Descargando video: {X.loc[n, 'band']}\")\n",
        "\n",
        "    mp3_file = download_ytvid_as_mp3(X.loc[n, 'link'], name_)\n",
        "    st.write(\"Conversión a WAV...\")\n",
        "    subprocess.call(['ffmpeg', '-y', '-i', mp3_file, f'{name_}.wav'])\n",
        "\n",
        "    # Cargar archivo WAV y mostrar algunos datos\n",
        "    wav_file = f\"{name_}.wav\"\n",
        "    x, fs = sf.read(wav_file)\n",
        "    st.write(f\"Frecuencia de muestreo: {fs} Hz\")\n",
        "    st.audio(wav_file)\n",
        "\n",
        "    # Partición del archivo de audio\n",
        "    ts = 5  # Duración del segmento en segundos\n",
        "    t_segment = np.arange(0, ts, 1/fs)\n",
        "    x_t = x[:int(ts*fs), :]  # Primer segmento de audio\n",
        "\n",
        "    st.write(\"Reproduciendo segmento de audio:\")\n",
        "    st.audio(x_t.T, sample_rate=fs)\n",
        "\n",
        "    # Generación y visualización de la señal de portadora y mensaje\n",
        "    xm = x_t[:, 0]  # Canal 1\n",
        "    Fc = 15000  # Frecuencia de portadora\n",
        "    Ac = max(abs(xm))  # Amplitud de la portadora\n",
        "    c = Ac * np.sin(2 * np.pi * Fc * t_segment)\n",
        "\n",
        "    # Graficar portadora y mensaje\n",
        "    fig, ax = plt.subplots()\n",
        "    ax.plot(t_segment, c, label='Portadora')\n",
        "    ax.plot(t_segment, xm, label='Mensaje')\n",
        "    ax.set_xlabel('Tiempo [s]')\n",
        "    ax.set_ylabel('Amplitud')\n",
        "    ax.legend()\n",
        "    st.pyplot(fig)\n",
        "\n",
        "    # Modulación AM\n",
        "    y = (1 + xm / Ac) * c\n",
        "    st.write(\"Reproduciendo señal modulada en AM:\")\n",
        "    st.audio(y, sample_rate=fs)\n",
        "\n",
        "    # Espectros de las señales\n",
        "    Xfc = np.fft.fft(c)\n",
        "    Xfm = np.fft.fft(xm)\n",
        "    Xfy = np.fft.fft(y)\n",
        "    vfre = np.fft.fftfreq(len(c), 1/fs)\n",
        "\n",
        "    # Graficar espectros\n",
        "    fig, ax = plt.subplots()\n",
        "    ax.plot(vfre, np.abs(Xfy), label='Modulada')\n",
        "    ax.plot(vfre, np.abs(Xfm), label='Mensaje')\n",
        "    ax.plot(vfre, np.abs(Xfc), label='Portadora')\n",
        "    ax.set_xlim([0, 30000])\n",
        "    ax.set_xlabel('Frecuencia [Hz]')\n",
        "    ax.set_ylabel('Magnitud')\n",
        "    ax.legend()\n",
        "    st.pyplot(fig)"
      ],
      "metadata": {
        "colab": {
          "base_uri": "https://localhost:8080/"
        },
        "id": "768gOKEJ0xJ5",
        "outputId": "c6c1be3c-544b-4061-97f2-e1455d789fe5"
      },
      "execution_count": null,
      "outputs": [
        {
          "output_type": "stream",
          "name": "stdout",
          "text": [
            "Writing Punto3.py\n"
          ]
        }
      ]
    },
    {
      "cell_type": "markdown",
      "source": [
        "El código mencionado incluye un token, que es una clave de acceso utilizada para autenticar o autorizar solicitudes a un servicio o API. Estos tokens suelen ser generados por plataformas para dar acceso a aplicaciones o usuarios sin necesidad de compartir contraseñas. En este caso, el token se utilizaría en un script o aplicación para acceder a un servicio externo de forma segura. Es crucial mantener este tipo de tokens privados para evitar accesos no autorizados a servicios o cuentas."
      ],
      "metadata": {
        "id": "1gsXDRXV5REn"
      }
    },
    {
      "cell_type": "code",
      "source": [
        "token=\"2lmAC6DGxB9xF06bq6Js7K7IZQK_5T6aE4rBZBp6hDqefow8M\""
      ],
      "metadata": {
        "id": "DjhwS2XY05Lt"
      },
      "execution_count": null,
      "outputs": []
    },
    {
      "cell_type": "markdown",
      "source": [
        "Este código utiliza pyngrok para exponer una aplicación de Streamlit al público. Primero, configura el token de autenticación de ngrok, luego ejecuta la aplicación Streamlit en el puerto 5012 en segundo plano. Después, establece un túnel público con ngrok para que la aplicación sea accesible a través de una URL temporal. Finalmente, imprime esta URL para que pueda ser utilizada para acceder a la aplicación desde cualquier lugar."
      ],
      "metadata": {
        "id": "Fsnj28Fn5Mk1"
      }
    },
    {
      "cell_type": "code",
      "source": [
        "from pyngrok import ngrok\n",
        "\n",
        "# # Set authentication token (unique per user)\n",
        "ngrok.set_auth_token(token)\n",
        "\n",
        "# # Start Streamlit server on a specific port\n",
        "!nohup streamlit run Punto3.py --server.port 5012 &\n",
        "\n",
        "# # Start ngrok tunnel to expose the Streamlit server\n",
        "ngrok_tunnel = ngrok.connect(addr='5012', proto='http', bind_tls=True)\n",
        "\n",
        "# # Print the URL of the ngrok tunnel\n",
        "print(' * Tunnel URL:', ngrok_tunnel.public_url)"
      ],
      "metadata": {
        "colab": {
          "base_uri": "https://localhost:8080/"
        },
        "id": "M1jUZ684061u",
        "outputId": "e9a98dc4-62b2-4db3-faf9-8d666f9055ab"
      },
      "execution_count": null,
      "outputs": [
        {
          "output_type": "stream",
          "name": "stdout",
          "text": [
            "nohup: appending output to 'nohup.out'\n",
            " * Tunnel URL: https://9e28-104-196-212-111.ngrok-free.app\n"
          ]
        }
      ]
    },
    {
      "cell_type": "markdown",
      "source": [
        "#Punto 4"
      ],
      "metadata": {
        "id": "x2DHE8a52DG0"
      }
    },
    {
      "cell_type": "markdown",
      "source": [
        "Este código instala herramientas clave para desarrollar y compartir aplicaciones web locales. Primero, Streamlit permite crear aplicaciones interactivas en Python sin necesidad de experiencia en desarrollo web. Luego, localtunnel expone servidores locales a través de una URL pública, facilitando compartir la aplicación con otros sin configuraciones de red complicadas. El comando siguiente reinstala yt-dlp, una herramienta para descargar videos de plataformas como YouTube. Finalmente, pyngrok ofrece una manera simple de compartir aplicaciones locales en la web usando una URL temporal generada por ngrok."
      ],
      "metadata": {
        "id": "Pq35mjzt3lUP"
      }
    },
    {
      "cell_type": "code",
      "source": [
        "!pip install streamlit -q #instalación de librerías\n",
        "!npm install localtunnel\n",
        "!python3 -m pip install --force-reinstall https://github.com/yt-dlp/yt-dlp/archive/master.tar.gz\n",
        "!pip install pyngrok"
      ],
      "metadata": {
        "colab": {
          "base_uri": "https://localhost:8080/"
        },
        "id": "uLJuR7nV2H4u",
        "outputId": "77a40d47-d7c9-411a-b7ad-8517f20e15e2"
      },
      "execution_count": null,
      "outputs": [
        {
          "output_type": "stream",
          "name": "stdout",
          "text": [
            "\u001b[K\u001b[?25h\n",
            "up to date, audited 23 packages in 534ms\n",
            "\n",
            "3 packages are looking for funding\n",
            "  run `npm fund` for details\n",
            "\n",
            "2 \u001b[33m\u001b[1mmoderate\u001b[22m\u001b[39m severity vulnerabilities\n",
            "\n",
            "To address all issues (including breaking changes), run:\n",
            "  npm audit fix --force\n",
            "\n",
            "Run `npm audit` for details.\n",
            "Collecting https://github.com/yt-dlp/yt-dlp/archive/master.tar.gz\n",
            "  Using cached https://github.com/yt-dlp/yt-dlp/archive/master.tar.gz\n",
            "  Installing build dependencies ... \u001b[?25l\u001b[?25hdone\n",
            "  Getting requirements to build wheel ... \u001b[?25l\u001b[?25hdone\n",
            "  Preparing metadata (pyproject.toml) ... \u001b[?25l\u001b[?25hdone\n",
            "Collecting brotli (from yt-dlp==2024.8.6)\n",
            "  Using cached Brotli-1.1.0-cp310-cp310-manylinux_2_5_x86_64.manylinux1_x86_64.manylinux_2_12_x86_64.manylinux2010_x86_64.whl.metadata (5.5 kB)\n",
            "Collecting certifi (from yt-dlp==2024.8.6)\n",
            "  Using cached certifi-2024.8.30-py3-none-any.whl.metadata (2.2 kB)\n",
            "Collecting mutagen (from yt-dlp==2024.8.6)\n",
            "  Using cached mutagen-1.47.0-py3-none-any.whl.metadata (1.7 kB)\n",
            "Collecting pycryptodomex (from yt-dlp==2024.8.6)\n",
            "  Using cached pycryptodomex-3.20.0-cp35-abi3-manylinux_2_17_x86_64.manylinux2014_x86_64.whl.metadata (3.4 kB)\n",
            "Collecting requests<3,>=2.32.2 (from yt-dlp==2024.8.6)\n",
            "  Using cached requests-2.32.3-py3-none-any.whl.metadata (4.6 kB)\n",
            "Collecting urllib3<3,>=1.26.17 (from yt-dlp==2024.8.6)\n",
            "  Using cached urllib3-2.2.2-py3-none-any.whl.metadata (6.4 kB)\n",
            "Collecting websockets>=13.0 (from yt-dlp==2024.8.6)\n",
            "  Using cached websockets-13.0.1-cp310-cp310-manylinux_2_5_x86_64.manylinux1_x86_64.manylinux_2_17_x86_64.manylinux2014_x86_64.whl.metadata (6.7 kB)\n",
            "Collecting charset-normalizer<4,>=2 (from requests<3,>=2.32.2->yt-dlp==2024.8.6)\n",
            "  Using cached charset_normalizer-3.3.2-cp310-cp310-manylinux_2_17_x86_64.manylinux2014_x86_64.whl.metadata (33 kB)\n",
            "Collecting idna<4,>=2.5 (from requests<3,>=2.32.2->yt-dlp==2024.8.6)\n",
            "  Using cached idna-3.8-py3-none-any.whl.metadata (9.9 kB)\n",
            "Using cached requests-2.32.3-py3-none-any.whl (64 kB)\n",
            "Using cached certifi-2024.8.30-py3-none-any.whl (167 kB)\n",
            "Using cached urllib3-2.2.2-py3-none-any.whl (121 kB)\n",
            "Using cached websockets-13.0.1-cp310-cp310-manylinux_2_5_x86_64.manylinux1_x86_64.manylinux_2_17_x86_64.manylinux2014_x86_64.whl (157 kB)\n",
            "Using cached Brotli-1.1.0-cp310-cp310-manylinux_2_5_x86_64.manylinux1_x86_64.manylinux_2_12_x86_64.manylinux2010_x86_64.whl (3.0 MB)\n",
            "Using cached mutagen-1.47.0-py3-none-any.whl (194 kB)\n",
            "Using cached pycryptodomex-3.20.0-cp35-abi3-manylinux_2_17_x86_64.manylinux2014_x86_64.whl (2.1 MB)\n",
            "Using cached charset_normalizer-3.3.2-cp310-cp310-manylinux_2_17_x86_64.manylinux2014_x86_64.whl (142 kB)\n",
            "Using cached idna-3.8-py3-none-any.whl (66 kB)\n",
            "Building wheels for collected packages: yt-dlp\n",
            "  Building wheel for yt-dlp (pyproject.toml) ... \u001b[?25l\u001b[?25hdone\n",
            "  Created wheel for yt-dlp: filename=yt_dlp-2024.8.6-py3-none-any.whl size=2883112 sha256=f4b8a5aa523b7ef26fd7bc3b0a6a7050c1871ca1cd3624e3df5e1c19ce64ae89\n",
            "  Stored in directory: /tmp/pip-ephem-wheel-cache-0_wvjbyi/wheels/4c/91/d1/c5369304e2f7afb660bb6eee093af5a7d3c0ea05a3c1e8c797\n",
            "Successfully built yt-dlp\n",
            "Installing collected packages: brotli, websockets, urllib3, pycryptodomex, mutagen, idna, charset-normalizer, certifi, requests, yt-dlp\n",
            "  Attempting uninstall: brotli\n",
            "    Found existing installation: Brotli 1.1.0\n",
            "    Uninstalling Brotli-1.1.0:\n",
            "      Successfully uninstalled Brotli-1.1.0\n",
            "  Attempting uninstall: websockets\n",
            "    Found existing installation: websockets 13.0.1\n",
            "    Uninstalling websockets-13.0.1:\n",
            "      Successfully uninstalled websockets-13.0.1\n",
            "  Attempting uninstall: urllib3\n",
            "    Found existing installation: urllib3 2.2.2\n",
            "    Uninstalling urllib3-2.2.2:\n",
            "      Successfully uninstalled urllib3-2.2.2\n",
            "  Attempting uninstall: pycryptodomex\n",
            "    Found existing installation: pycryptodomex 3.20.0\n",
            "    Uninstalling pycryptodomex-3.20.0:\n",
            "      Successfully uninstalled pycryptodomex-3.20.0\n",
            "  Attempting uninstall: mutagen\n",
            "    Found existing installation: mutagen 1.47.0\n",
            "    Uninstalling mutagen-1.47.0:\n",
            "      Successfully uninstalled mutagen-1.47.0\n",
            "  Attempting uninstall: idna\n",
            "    Found existing installation: idna 3.8\n",
            "    Uninstalling idna-3.8:\n",
            "      Successfully uninstalled idna-3.8\n",
            "  Attempting uninstall: charset-normalizer\n",
            "    Found existing installation: charset-normalizer 3.3.2\n",
            "    Uninstalling charset-normalizer-3.3.2:\n",
            "      Successfully uninstalled charset-normalizer-3.3.2\n",
            "  Attempting uninstall: certifi\n",
            "    Found existing installation: certifi 2024.8.30\n",
            "    Uninstalling certifi-2024.8.30:\n",
            "      Successfully uninstalled certifi-2024.8.30\n",
            "  Attempting uninstall: requests\n",
            "    Found existing installation: requests 2.32.3\n",
            "    Uninstalling requests-2.32.3:\n",
            "      Successfully uninstalled requests-2.32.3\n",
            "  Attempting uninstall: yt-dlp\n",
            "    Found existing installation: yt-dlp 2024.8.6\n",
            "    Uninstalling yt-dlp-2024.8.6:\n",
            "      Successfully uninstalled yt-dlp-2024.8.6\n",
            "Successfully installed brotli-1.1.0 certifi-2024.8.30 charset-normalizer-3.3.2 idna-3.8 mutagen-1.47.0 pycryptodomex-3.20.0 requests-2.32.3 urllib3-2.2.2 websockets-13.0.1 yt-dlp-2024.8.6\n",
            "Requirement already satisfied: pyngrok in /usr/local/lib/python3.10/dist-packages (7.2.0)\n",
            "Requirement already satisfied: PyYAML>=5.1 in /usr/local/lib/python3.10/dist-packages (from pyngrok) (6.0.2)\n"
          ]
        }
      ]
    },
    {
      "cell_type": "markdown",
      "source": [
        "Este código crea una aplicación interactiva usando Streamlit para simular un rectificador de onda completa y calcular el THD (Total Harmonic Distortion) para una carga resistiva y una carga RC. El usuario ajusta los parámetros de la señal (frecuencia, resistencia y capacitancia) mediante controles deslizantes. La aplicación genera las señales en el dominio del tiempo y su FFT (espectro de frecuencia) para ambas cargas, y calcula el THD de cada una, mostrando tanto los gráficos como los valores de distorsión armónica en la interfaz."
      ],
      "metadata": {
        "id": "1M47Zdg44K6a"
      }
    },
    {
      "cell_type": "code",
      "source": [
        "%%writefile Punto4.py\n",
        "import streamlit as st\n",
        "import numpy as np\n",
        "import scipy.signal as sig\n",
        "import matplotlib.pyplot as plt\n",
        "import io\n",
        "\n",
        "# Título de la aplicación\n",
        "st.title('Análisis del Total Harmonic Distortion (THD) en Rectificadores de Onda Completa con Cargas Resistivas y RC')\n",
        "\n",
        "# Descripción o texto en la app\n",
        "st.write(\"Punto 4:\")\n",
        "\n",
        "import streamlit as st\n",
        "import numpy as np\n",
        "import matplotlib.pyplot as plt\n",
        "from scipy.fftpack import fft, fftfreq\n",
        "\n",
        "# Parámetros del sistema\n",
        "sampling_rate = 10000  # Frecuencia de muestreo\n",
        "T = 1.0 / sampling_rate  # Intervalo de tiempo\n",
        "t = np.linspace(0, 1.0, sampling_rate)\n",
        "\n",
        "# Generar señal del rectificador de onda completa\n",
        "def rectificador_onda_completa(t, f, R, C=None):\n",
        "    # Onda senoidal fundamental\n",
        "    signal = np.abs(np.sin(2 * np.pi * f * t))\n",
        "\n",
        "    if C is not None:\n",
        "        # Respuesta para carga RC\n",
        "        tau = R * C\n",
        "        signal = signal * np.exp(-t / tau)\n",
        "\n",
        "    return signal\n",
        "\n",
        "# Calcular la FFT y los armónicos\n",
        "def calcular_fft(signal, sampling_rate):\n",
        "    N = len(signal)\n",
        "    yf = fft(signal)\n",
        "    xf = fftfreq(N, 1 / sampling_rate)[:N // 2]\n",
        "    return xf, np.abs(yf[:N // 2])\n",
        "\n",
        "# Calcular THD\n",
        "def calcular_thd(yf):\n",
        "    V1 = yf[1]  # El primer armónico\n",
        "    harmonics = np.sqrt(np.sum(yf[2:]**2))\n",
        "    thd = harmonics / V1\n",
        "    return thd\n",
        "\n",
        "# Interfaz gráfica de Streamlit\n",
        "st.title(\"Simulación de Rectificador de Onda Completa y Cálculo del THD\")\n",
        "\n",
        "# Parámetros de la simulación\n",
        "st.subheader(\"Parámetros de la simulación\")\n",
        "f = st.slider(\"Frecuencia de la señal de entrada (Hz):\", min_value=10, max_value=100, value=60)  # Frecuencia de la señal\n",
        "R = st.slider(\"Ingrese el valor de la Resistencia R (ohmios):\", min_value=0.0, max_value=100.0, value=10.0, step=0.1)  # Valor de R\n",
        "C = st.slider(\"Ingrese el valor de la Capacitancia C (faradios):\", min_value=0.0, max_value=10.0, value=1.0, step=0.1)  # Valor de C\n",
        "\n",
        "# Simulación para carga resistiva pura\n",
        "signal_resistiva = rectificador_onda_completa(t, f, R)\n",
        "\n",
        "# Simulación para carga RC en serie\n",
        "signal_rc = rectificador_onda_completa(t, f, R, C)\n",
        "\n",
        "# FFT de ambas señales\n",
        "xf_res, yf_res = calcular_fft(signal_resistiva, sampling_rate)\n",
        "xf_rc, yf_rc = calcular_fft(signal_rc, sampling_rate)\n",
        "\n",
        "# Calcular THD\n",
        "thd_resistiva = calcular_thd(yf_res)\n",
        "thd_rc = calcular_thd(yf_rc)\n",
        "\n",
        "# Mostrar resultados de THD\n",
        "st.write(f\"THD para carga resistiva pura: {thd_resistiva:.4f}\")\n",
        "st.write(f\"THD para carga RC: {thd_rc:.4f}\")\n",
        "\n",
        "# Graficar señales y su espectro\n",
        "fig, axs = plt.subplots(2, 2, figsize=(12, 8))\n",
        "\n",
        "# Señal en el dominio del tiempo\n",
        "axs[0, 0].plot(t[:500], signal_resistiva[:500])\n",
        "axs[0, 0].set_title(\"Señal con carga resistiva pura\")\n",
        "axs[0, 0].set_xlabel(\"Tiempo [s]\")\n",
        "axs[0, 0].set_ylabel(\"Amplitud\")\n",
        "\n",
        "axs[0, 1].plot(t[:500], signal_rc[:500])\n",
        "axs[0, 1].set_title(\"Señal con carga RC\")\n",
        "axs[0, 1].set_xlabel(\"Tiempo [s]\")\n",
        "axs[0, 1].set_ylabel(\"Amplitud\")\n",
        "\n",
        "# FFT de las señales\n",
        "axs[1, 0].plot(xf_res, yf_res)\n",
        "axs[1, 0].set_title(\"FFT - Carga resistiva pura\")\n",
        "axs[1, 0].set_xlabel(\"Frecuencia [Hz]\")\n",
        "axs[1, 0].set_ylabel(\"Amplitud\")\n",
        "\n",
        "axs[1, 1].plot(xf_rc, yf_rc)\n",
        "axs[1, 1].set_title(\"FFT - Carga RC\")\n",
        "axs[1, 1].set_xlabel(\"Frecuencia [Hz]\")\n",
        "axs[1, 1].set_ylabel(\"Amplitud\")\n",
        "\n",
        "plt.tight_layout()\n",
        "st.pyplot(fig)"
      ],
      "metadata": {
        "colab": {
          "base_uri": "https://localhost:8080/"
        },
        "id": "o9HsjZ8l2Irn",
        "outputId": "1ebb2358-fda8-4462-d6e6-84aac8083ed9"
      },
      "execution_count": null,
      "outputs": [
        {
          "output_type": "stream",
          "name": "stdout",
          "text": [
            "Overwriting Punto4.py\n"
          ]
        }
      ]
    },
    {
      "cell_type": "markdown",
      "source": [
        "En este código se incluye un token, que es una clave de acceso utilizada para autenticar o autorizar solicitudes a un servicio o API. Estos tokens suelen ser generados por plataformas para dar acceso a aplicaciones o usuarios sin necesidad de compartir contraseñas. En este caso, el token se utilizaría en un script o aplicación para acceder a un servicio externo de forma segura. Es crucial mantener este tipo de tokens privados para evitar accesos no autorizados a servicios o cuentas."
      ],
      "metadata": {
        "id": "NHQ8y5To4uNt"
      }
    },
    {
      "cell_type": "code",
      "source": [
        "token=\"2lmAC6DGxB9xF06bq6Js7K7IZQK_5T6aE4rBZBp6hDqefow8M\""
      ],
      "metadata": {
        "id": "hkzgL7wI2Ii_"
      },
      "execution_count": null,
      "outputs": []
    },
    {
      "cell_type": "markdown",
      "source": [
        "Este código utiliza pyngrok para exponer una aplicación de Streamlit al público. Primero, configura el token de autenticación de ngrok, luego ejecuta la aplicación Streamlit en el puerto 5010 en segundo plano. Después, establece un túnel público con ngrok para que la aplicación sea accesible a través de una URL temporal. Finalmente, imprime esta URL para que pueda ser utilizada para acceder a la aplicación desde cualquier lugar."
      ],
      "metadata": {
        "id": "Hc74Km7M456i"
      }
    },
    {
      "cell_type": "code",
      "source": [
        "from pyngrok import ngrok\n",
        "\n",
        "# Set authentication token (unique per user)\n",
        "ngrok.set_auth_token(token)\n",
        "\n",
        "# Start Streamlit server on a specific port\n",
        "!nohup streamlit run Punto4.py --server.port 5010 &\n",
        "\n",
        "# Start ngrok tunnel to expose the Streamlit server\n",
        "ngrok_tunnel = ngrok.connect(addr='5010', proto='http', bind_tls=True)\n",
        "\n",
        "# Print the URL of the ngrok tunnel\n",
        "print(' * Tunnel URL:', ngrok_tunnel.public_url)"
      ],
      "metadata": {
        "colab": {
          "base_uri": "https://localhost:8080/"
        },
        "id": "hD8QtkXH2IU-",
        "outputId": "d3137a4a-cf95-4d8d-d62b-26124a7d2569"
      },
      "execution_count": null,
      "outputs": [
        {
          "output_type": "stream",
          "name": "stdout",
          "text": [
            "nohup: appending output to 'nohup.out'\n",
            " * Tunnel URL: https://39e9-104-196-212-111.ngrok-free.app\n"
          ]
        }
      ]
    }
  ],
  "metadata": {
    "colab": {
      "provenance": [],
      "include_colab_link": true
    },
    "kernelspec": {
      "display_name": "Python 3",
      "name": "python3"
    },
    "language_info": {
      "name": "python"
    }
  },
  "nbformat": 4,
  "nbformat_minor": 0
}