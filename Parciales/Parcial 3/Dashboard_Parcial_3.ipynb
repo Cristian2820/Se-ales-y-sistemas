{
  "nbformat": 4,
  "nbformat_minor": 0,
  "metadata": {
    "colab": {
      "provenance": [],
      "authorship_tag": "ABX9TyPnPe9VXmuKM5+nibE3Ot8K",
      "include_colab_link": true
    },
    "kernelspec": {
      "name": "python3",
      "display_name": "Python 3"
    },
    "language_info": {
      "name": "python"
    }
  },
  "cells": [
    {
      "cell_type": "markdown",
      "metadata": {
        "id": "view-in-github",
        "colab_type": "text"
      },
      "source": [
        "<a href=\"https://colab.research.google.com/github/Cristian2820/Senales-y-sistemas/blob/main/Parciales/Parcial%203/Dashboard_Parcial_3.ipynb\" target=\"_parent\"><img src=\"https://colab.research.google.com/assets/colab-badge.svg\" alt=\"Open In Colab\"/></a>"
      ]
    },
    {
      "cell_type": "markdown",
      "source": [
        "#Punto 1"
      ],
      "metadata": {
        "id": "sb3ffNZY4vSd"
      }
    },
    {
      "cell_type": "markdown",
      "source": [
        "Este código se utiliza para instalar las bibliotecas y herramientas necesarias para desarrollar una aplicación web en Streamlit que simula un sistema de control. La línea `!pip install streamlit -q` instala la biblioteca Streamlit, que permite crear aplicaciones web interactivas de manera sencilla. La línea `!npm install localtunnel` instala Localtunnel, una herramienta que expone aplicaciones locales a una URL pública. Luego, `!python3 -m pip install --force-reinstall https://github.com/yt-dlp/yt-dlp/archive/master.tar.gz` instala o reinstala yt-dlp, una herramienta para descargar videos de diversas plataformas. Además, `!pip install pyngrok` instala Pyngrok, que permite crear túneles seguros para exponer aplicaciones locales a Internet. Por último, `!pip install sympy --upgrade` actualiza la biblioteca Sympy, que proporciona funciones para matemáticas simbólicas, incluyendo un módulo de control para sistemas dinámicos.\n",
        "\n"
      ],
      "metadata": {
        "id": "VuRWtWV34wT1"
      }
    },
    {
      "cell_type": "code",
      "source": [
        "!pip install streamlit -q #instalación de librerías\n",
        "!npm install localtunnel\n",
        "!python3 -m pip install --force-reinstall https://github.com/yt-dlp/yt-dlp/archive/master.tar.gz\n",
        "!pip install pyngrok\n",
        "!pip install sympy --upgrade #actualizar sympy para usar módulo de control"
      ],
      "metadata": {
        "colab": {
          "base_uri": "https://localhost:8080/"
        },
        "id": "j4QgDO4Ppfok",
        "outputId": "8b53bd0b-1884-4599-e46f-cac17bee64b4"
      },
      "execution_count": 43,
      "outputs": [
        {
          "output_type": "stream",
          "name": "stdout",
          "text": [
            "\u001b[K\u001b[?25h\n",
            "up to date, audited 23 packages in 534ms\n",
            "\n",
            "3 packages are looking for funding\n",
            "  run `npm fund` for details\n",
            "\n",
            "2 \u001b[33m\u001b[1mmoderate\u001b[22m\u001b[39m severity vulnerabilities\n",
            "\n",
            "To address all issues (including breaking changes), run:\n",
            "  npm audit fix --force\n",
            "\n",
            "Run `npm audit` for details.\n",
            "Collecting https://github.com/yt-dlp/yt-dlp/archive/master.tar.gz\n",
            "  Using cached https://github.com/yt-dlp/yt-dlp/archive/master.tar.gz\n",
            "  Installing build dependencies ... \u001b[?25l\u001b[?25hdone\n",
            "  Getting requirements to build wheel ... \u001b[?25l\u001b[?25hdone\n",
            "  Preparing metadata (pyproject.toml) ... \u001b[?25l\u001b[?25hdone\n",
            "Collecting brotli (from yt-dlp==2024.8.6)\n",
            "  Using cached Brotli-1.1.0-cp310-cp310-manylinux_2_5_x86_64.manylinux1_x86_64.manylinux_2_12_x86_64.manylinux2010_x86_64.whl.metadata (5.5 kB)\n",
            "Collecting certifi (from yt-dlp==2024.8.6)\n",
            "  Using cached certifi-2024.8.30-py3-none-any.whl.metadata (2.2 kB)\n",
            "Collecting mutagen (from yt-dlp==2024.8.6)\n",
            "  Using cached mutagen-1.47.0-py3-none-any.whl.metadata (1.7 kB)\n",
            "Collecting pycryptodomex (from yt-dlp==2024.8.6)\n",
            "  Using cached pycryptodomex-3.20.0-cp35-abi3-manylinux_2_17_x86_64.manylinux2014_x86_64.whl.metadata (3.4 kB)\n",
            "Collecting requests<3,>=2.32.2 (from yt-dlp==2024.8.6)\n",
            "  Using cached requests-2.32.3-py3-none-any.whl.metadata (4.6 kB)\n",
            "Collecting urllib3<3,>=1.26.17 (from yt-dlp==2024.8.6)\n",
            "  Using cached urllib3-2.2.3-py3-none-any.whl.metadata (6.5 kB)\n",
            "Collecting websockets>=13.0 (from yt-dlp==2024.8.6)\n",
            "  Using cached websockets-13.1-cp310-cp310-manylinux_2_5_x86_64.manylinux1_x86_64.manylinux_2_17_x86_64.manylinux2014_x86_64.whl.metadata (6.8 kB)\n",
            "Collecting charset-normalizer<4,>=2 (from requests<3,>=2.32.2->yt-dlp==2024.8.6)\n",
            "  Using cached charset_normalizer-3.3.2-cp310-cp310-manylinux_2_17_x86_64.manylinux2014_x86_64.whl.metadata (33 kB)\n",
            "Collecting idna<4,>=2.5 (from requests<3,>=2.32.2->yt-dlp==2024.8.6)\n",
            "  Using cached idna-3.10-py3-none-any.whl.metadata (10 kB)\n",
            "Using cached requests-2.32.3-py3-none-any.whl (64 kB)\n",
            "Using cached certifi-2024.8.30-py3-none-any.whl (167 kB)\n",
            "Using cached urllib3-2.2.3-py3-none-any.whl (126 kB)\n",
            "Using cached websockets-13.1-cp310-cp310-manylinux_2_5_x86_64.manylinux1_x86_64.manylinux_2_17_x86_64.manylinux2014_x86_64.whl (164 kB)\n",
            "Using cached Brotli-1.1.0-cp310-cp310-manylinux_2_5_x86_64.manylinux1_x86_64.manylinux_2_12_x86_64.manylinux2010_x86_64.whl (3.0 MB)\n",
            "Using cached mutagen-1.47.0-py3-none-any.whl (194 kB)\n",
            "Using cached pycryptodomex-3.20.0-cp35-abi3-manylinux_2_17_x86_64.manylinux2014_x86_64.whl (2.1 MB)\n",
            "Using cached charset_normalizer-3.3.2-cp310-cp310-manylinux_2_17_x86_64.manylinux2014_x86_64.whl (142 kB)\n",
            "Using cached idna-3.10-py3-none-any.whl (70 kB)\n",
            "Building wheels for collected packages: yt-dlp\n",
            "  Building wheel for yt-dlp (pyproject.toml) ... \u001b[?25l\u001b[?25hdone\n",
            "  Created wheel for yt-dlp: filename=yt_dlp-2024.8.6-py3-none-any.whl size=2889312 sha256=dde1453c3bd67e502efab8ab95022dea0446276acf81d472480900272ff40c6d\n",
            "  Stored in directory: /tmp/pip-ephem-wheel-cache-g97krip6/wheels/4c/91/d1/c5369304e2f7afb660bb6eee093af5a7d3c0ea05a3c1e8c797\n",
            "Successfully built yt-dlp\n",
            "Installing collected packages: brotli, websockets, urllib3, pycryptodomex, mutagen, idna, charset-normalizer, certifi, requests, yt-dlp\n",
            "  Attempting uninstall: brotli\n",
            "    Found existing installation: Brotli 1.1.0\n",
            "    Uninstalling Brotli-1.1.0:\n",
            "      Successfully uninstalled Brotli-1.1.0\n",
            "  Attempting uninstall: websockets\n",
            "    Found existing installation: websockets 13.1\n",
            "    Uninstalling websockets-13.1:\n",
            "      Successfully uninstalled websockets-13.1\n",
            "  Attempting uninstall: urllib3\n",
            "    Found existing installation: urllib3 2.2.3\n",
            "    Uninstalling urllib3-2.2.3:\n",
            "      Successfully uninstalled urllib3-2.2.3\n",
            "  Attempting uninstall: pycryptodomex\n",
            "    Found existing installation: pycryptodomex 3.20.0\n",
            "    Uninstalling pycryptodomex-3.20.0:\n",
            "      Successfully uninstalled pycryptodomex-3.20.0\n",
            "  Attempting uninstall: mutagen\n",
            "    Found existing installation: mutagen 1.47.0\n",
            "    Uninstalling mutagen-1.47.0:\n",
            "      Successfully uninstalled mutagen-1.47.0\n",
            "  Attempting uninstall: idna\n",
            "    Found existing installation: idna 3.10\n",
            "    Uninstalling idna-3.10:\n",
            "      Successfully uninstalled idna-3.10\n",
            "  Attempting uninstall: charset-normalizer\n",
            "    Found existing installation: charset-normalizer 3.3.2\n",
            "    Uninstalling charset-normalizer-3.3.2:\n",
            "      Successfully uninstalled charset-normalizer-3.3.2\n",
            "  Attempting uninstall: certifi\n",
            "    Found existing installation: certifi 2024.8.30\n",
            "    Uninstalling certifi-2024.8.30:\n",
            "      Successfully uninstalled certifi-2024.8.30\n",
            "  Attempting uninstall: requests\n",
            "    Found existing installation: requests 2.32.3\n",
            "    Uninstalling requests-2.32.3:\n",
            "      Successfully uninstalled requests-2.32.3\n",
            "  Attempting uninstall: yt-dlp\n",
            "    Found existing installation: yt-dlp 2024.8.6\n",
            "    Uninstalling yt-dlp-2024.8.6:\n",
            "      Successfully uninstalled yt-dlp-2024.8.6\n",
            "\u001b[31mERROR: pip's dependency resolver does not currently take into account all the packages that are installed. This behaviour is the source of the following dependency conflicts.\n",
            "bigframes 1.17.0 requires matplotlib>=3.7.1, but you have matplotlib 3.5.1 which is incompatible.\u001b[0m\u001b[31m\n",
            "\u001b[0mSuccessfully installed brotli-1.1.0 certifi-2024.8.30 charset-normalizer-3.3.2 idna-3.10 mutagen-1.47.0 pycryptodomex-3.20.0 requests-2.32.3 urllib3-2.2.3 websockets-13.1 yt-dlp-2024.8.6\n",
            "Requirement already satisfied: pyngrok in /usr/local/lib/python3.10/dist-packages (7.2.0)\n",
            "Requirement already satisfied: PyYAML>=5.1 in /usr/local/lib/python3.10/dist-packages (from pyngrok) (6.0.2)\n",
            "Requirement already satisfied: sympy in /usr/local/lib/python3.10/dist-packages (1.13.3)\n",
            "Requirement already satisfied: mpmath<1.4,>=1.1.0 in /usr/local/lib/python3.10/dist-packages (from sympy) (1.3.0)\n"
          ]
        }
      ]
    },
    {
      "cell_type": "markdown",
      "source": [
        "El código es un script de Python que utiliza Streamlit para crear una aplicación web que simula un sistema de control de segundo orden. Importa bibliotecas necesarias como streamlit, numpy, matplotlib.pyplot y sympy para realizar cálculos simbólicos y graficación. La aplicación establece un título y una breve descripción de su funcionalidad, inicializa variables simbólicas para la masa (m), el coeficiente de amortiguamiento (c) y la rigidez (k), y crea controles deslizantes en la barra lateral para que el usuario ajuste estos valores. Calcula la ganancia, la frecuencia natural, el coeficiente de amortiguamiento y los polos del sistema, mostrando además los equivalentes de resistencia, inductancia y capacitancia. Finalmente, genera gráficos que ilustran el diagrama de polos y ceros, el diagrama de Bode, la respuesta al impulso y la respuesta al escalón, facilitando así la comprensión del comportamiento de sistemas de control."
      ],
      "metadata": {
        "id": "dgip5eqq5-iv"
      }
    },
    {
      "cell_type": "code",
      "execution_count": 47,
      "metadata": {
        "colab": {
          "base_uri": "https://localhost:8080/"
        },
        "id": "xL57HanGpW-z",
        "outputId": "ef6a972a-6674-41c5-e7bb-a8e5520dfcba"
      },
      "outputs": [
        {
          "output_type": "stream",
          "name": "stdout",
          "text": [
            "Overwriting Punto1.py\n"
          ]
        }
      ],
      "source": [
        "%%writefile Punto1.py\n",
        "import streamlit as st\n",
        "import numpy as np\n",
        "import matplotlib.pyplot as plt\n",
        "import sympy as sym\n",
        "from sympy.physics.control.lti import TransferFunction\n",
        "from sympy.physics.control.control_plots import pole_zero_plot, bode_plot, impulse_response_plot, step_response_plot\n",
        "\n",
        "# Título de la aplicación\n",
        "st.title('Simulación de Sistema de Control de Segundo Orden con Ajuste de Parámetros')\n",
        "\n",
        "# Descripción o texto en la app\n",
        "st.write(\"Simula un sistema de control de segundo orden ajustando m, c y k. \")\n",
        "\n",
        "\n",
        "# Inicializar variables en Sympy\n",
        "sym.init_printing()\n",
        "t, m, c, k = sym.symbols('t m c k', real=True, positive=True)\n",
        "s = sym.symbols('s', complex=True)\n",
        "\n",
        "# Crear sliders para los valores de m, c, y k\n",
        "m_val = st.sidebar.slider('Masa (m)', min_value=0.1, max_value=10.0, value=4.0, step=0.1)\n",
        "c_val = st.sidebar.slider('Amortiguamiento (c)', min_value=0.0, max_value=5.0, value=1.0, step=0.1)\n",
        "k_val = st.sidebar.slider('Rigidez (k)', min_value=0.1, max_value=10.0, value=1.0, step=0.1)\n",
        "\n",
        "# Definir los coeficientes de la ecuación\n",
        "a2 = m\n",
        "a1 = c\n",
        "ao = k\n",
        "\n",
        "Ko = 1/ao  # Ganancia circuito forma canónica\n",
        "wn = sym.sqrt(ao/a2)\n",
        "xi = a1/(2*sym.sqrt(ao*a2))\n",
        "\n",
        "# Función de transferencia\n",
        "H = Ko * wn**2 / (s**2 + 2 * xi * wn * s + wn**2)\n",
        "\n",
        "# Calcular los polos\n",
        "p1 = -xi*wn + 1j*wn*sym.sqrt(1-xi**2)\n",
        "p2 = -xi*wn - 1j*wn*sym.sqrt(1-xi**2)\n",
        "\n",
        "# Reemplazar los valores en las ecuaciones\n",
        "mck = {m: m_val, c: c_val, k: k_val}\n",
        "\n",
        "# Mostrar los resultados en la aplicación\n",
        "st.write(f\"Polos del sistema:\")\n",
        "st.write(f\"p1 = {p1.subs(mck)}\")\n",
        "st.write(f\"p2 = {p2.subs(mck)}\")\n",
        "st.write(f\"Coeficiente de amortiguamiento (ξ) = {xi.subs(mck)}\")\n",
        "st.write(f\"Frecuencia natural (ωn) = {wn.subs(mck)}\")\n",
        "\n",
        "# Calcular los equivalentes RLC\n",
        "R_value = c_val  # Resistencia es igual al coeficiente de amortiguamiento\n",
        "L_value = m_val  # Inductancia es igual a la masa\n",
        "C_value = 1 / k_val  # Capacitancia es inversa de la rigidez\n",
        "\n",
        "st.write(\"### Equivalentes RLC:\")\n",
        "st.write(f\" - Resistencia (R): {R_value:.2f} Ω\")\n",
        "st.write(f\" - Inductancia (L): {L_value:.2f} H\")\n",
        "st.write(f\" - Capacitancia (C): {C_value:.2f} F\")\n",
        "\n",
        "# Gráficas\n",
        "st.write(\"### Gráficas del sistema\")\n",
        "num, den = sym.fraction(H.subs(mck))\n",
        "tf1 = TransferFunction(num, den, s)\n",
        "\n",
        "# Gráfica de polos y ceros\n",
        "st.write(\"#### Diagrama de polos y ceros\")\n",
        "fig_pz, ax_pz = plt.subplots()\n",
        "pole_zero_plot(tf1, ax=ax_pz)\n",
        "st.pyplot(fig_pz)\n",
        "\n",
        "# Bode Plot\n",
        "st.write(\"#### Diagrama de Bode\")\n",
        "fig_bode, (mag_ax, phase_ax) = plt.subplots(2, 1)\n",
        "bode_plot(tf1)  # Removemos 'ax' ya que lo maneja internamente\n",
        "st.pyplot(fig_bode)\n",
        "\n",
        "# Impulse Response Plot\n",
        "st.write(\"#### Respuesta al impulso\")\n",
        "fig_impulse, ax_impulse = plt.subplots()\n",
        "impulse_response_plot(tf1, upper_limit=5/(xi.subs(mck)*wn.subs(mck)))\n",
        "st.pyplot(fig_impulse)\n",
        "\n",
        "# Step Response Plot\n",
        "st.write(\"#### Respuesta al escalón\")\n",
        "fig_step, ax_step = plt.subplots()\n",
        "step_response_plot(tf1, upper_limit=5/(xi.subs(mck)*wn.subs(mck)))\n",
        "st.pyplot(fig_step)\n"
      ]
    },
    {
      "cell_type": "markdown",
      "source": [
        "El código token=\"2lmAC6DGxB9xF06bq6Js7K7IZQK_5T6aE4rBZBp6hDqefow8M\" asigna un valor de cadena (string) a la variable token. Este token se utiliza para autenticar y autorizar la creación de la aplicación en Streamlit, permitiendo el acceso a servicios como ngrok."
      ],
      "metadata": {
        "id": "Ujv3plde6FzC"
      }
    },
    {
      "cell_type": "code",
      "source": [
        "token=\"2lmAC6DGxB9xF06bq6Js7K7IZQK_5T6aE4rBZBp6hDqefow8M\""
      ],
      "metadata": {
        "id": "WKCW_7nHp8pr"
      },
      "execution_count": 48,
      "outputs": []
    },
    {
      "cell_type": "markdown",
      "source": [
        "Este código importa la biblioteca ngrok para crear un túnel que expone la aplicación de Streamlit al público. Primero, configura el token de autenticación mediante ngrok.set_auth_token(token), lo que permite el acceso a la cuenta de ngrok del usuario. Luego, inicia el servidor de Streamlit en segundo plano en el puerto 5028 usando !nohup streamlit run Punto1.py --server.port 5028 &. A continuación, establece un túnel HTTP con ngrok.connect(addr='5028', proto='http', bind_tls=True), lo que permite el acceso seguro a la aplicación a través de HTTPS. Finalmente, imprime la URL pública generada para acceder a la aplicación de Streamlit desde cualquier lugar."
      ],
      "metadata": {
        "id": "7NurWoXH6GY6"
      }
    },
    {
      "cell_type": "code",
      "source": [
        "from pyngrok import ngrok\n",
        "\n",
        "# # Set authentication token (unique per user)\n",
        "ngrok.set_auth_token(token)\n",
        "\n",
        "# # Start Streamlit server on a specific port\n",
        "!nohup streamlit run Punto1.py --server.port 5028 &\n",
        "\n",
        "# # Start ngrok tunnel to expose the Streamlit server\n",
        "ngrok_tunnel = ngrok.connect(addr='5028', proto='http', bind_tls=True)\n",
        "\n",
        "# # Print the URL of the ngrok tunnel\n",
        "print(' * Tunnel URL:', ngrok_tunnel.public_url)"
      ],
      "metadata": {
        "colab": {
          "base_uri": "https://localhost:8080/"
        },
        "id": "7BfM_AZgp_x0",
        "outputId": "9f853b0c-3bb1-4946-c200-71b477b27e61"
      },
      "execution_count": 49,
      "outputs": [
        {
          "output_type": "stream",
          "name": "stdout",
          "text": [
            "nohup: appending output to 'nohup.out'\n",
            " * Tunnel URL: https://d6f8-35-222-123-212.ngrok-free.app\n"
          ]
        }
      ]
    }
  ]
}