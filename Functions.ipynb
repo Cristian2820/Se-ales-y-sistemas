{
  "nbformat": 4,
  "nbformat_minor": 0,
  "metadata": {
    "colab": {
      "provenance": [],
      "authorship_tag": "ABX9TyMw05bKm9BqJQ/UPAFQ3CX4",
      "include_colab_link": true
    },
    "kernelspec": {
      "name": "python3",
      "display_name": "Python 3"
    },
    "language_info": {
      "name": "python"
    }
  },
  "cells": [
    {
      "cell_type": "markdown",
      "metadata": {
        "id": "view-in-github",
        "colab_type": "text"
      },
      "source": [
        "<a href=\"https://colab.research.google.com/github/Cristian2820/Senales-y-sistemas/blob/main/Functions.ipynb\" target=\"_parent\"><img src=\"https://colab.research.google.com/assets/colab-badge.svg\" alt=\"Open In Colab\"/></a>"
      ]
    },
    {
      "cell_type": "markdown",
      "source": [
        "**The area of a triangle can be calculated when the length of its sides is known. Taking into account that s1, s2 and s3 are the lengths of the sides of the triangle, the subperimeter s = (s1+s2+s3)/2 can be calculated, and, with this value, the area of the triangle can be calculated from the follows: area = √( s * (s-s1) * (s-s2) * (s-s3) ).**\n",
        "\n",
        "**Create a function that takes the length of the sides of the triangle and returns the area of the triangle, rounded to one decimal place.**\n",
        "\n",
        "**The math module can help you calculate the square root.**"
      ],
      "metadata": {
        "id": "qV3bOgg_j-Lp"
      }
    },
    {
      "cell_type": "code",
      "source": [
        "\n",
        "import math\n",
        "\n",
        "def calcular_area_triangulo(s1, s2, s3):\n",
        "    # Calcular el semiperímetro\n",
        "    s = (s1 + s2 + s3) / 2\n",
        "\n",
        "    # Calcular el área usando la fórmula de Herón\n",
        "    area = math.sqrt(s * (s - s1) * (s - s2) * (s - s3))\n",
        "\n",
        "    # Devolver el área redondeada a un decimal\n",
        "    return round(area, 1)\n",
        "\n",
        "s1 = 5\n",
        "s2 = 12\n",
        "s3 = 13\n",
        "\n",
        "area = calcular_area_triangulo(s1, s2, s3)\n",
        "print(area)"
      ],
      "metadata": {
        "colab": {
          "base_uri": "https://localhost:8080/"
        },
        "id": "pk2d5vUFkEnm",
        "outputId": "229dbb7b-7c9e-4031-9ae7-af5c28e74ab2"
      },
      "execution_count": null,
      "outputs": [
        {
          "output_type": "stream",
          "name": "stdout",
          "text": [
            "30.0\n"
          ]
        }
      ]
    },
    {
      "cell_type": "markdown",
      "source": [
        "**Create a function that can calculate a person's body mass index (BMI).**\n",
        "\n",
        "**The formula to calculate BMI is as follows:**\n",
        "\n",
        "\n",
        "**BMI = weight/(height^2)**\n",
        "\n",
        "\n",
        "**In this formula the weight is in kilograms and the height in meters. Note that the weight and height received by your function will be in pounds and inches respectively, since your function will be used in the United States.**\n",
        "\n",
        "**Remember that:**\n",
        "\n",
        "*   **1 pound corresponds to 0.45kg.**\n",
        "*   **1 inch corresponds to 0.025 meters.**\n",
        "\n",
        "\n",
        "**The return value must be rounded to two decimal places.**"
      ],
      "metadata": {
        "id": "O9LGSUZ6k5BH"
      }
    },
    {
      "cell_type": "code",
      "source": [
        "\n",
        "def calcular_bmi(peso_libras, altura_pulgadas):\n",
        "    # Convertir peso de libras a kilogramos\n",
        "    peso_kg = peso_libras * 0.45\n",
        "\n",
        "    # Convertir altura de pulgadas a metros\n",
        "    altura_metros = altura_pulgadas * 0.025\n",
        "\n",
        "    # Calcular el BMI usando la fórmula\n",
        "    bmi = peso_kg / (altura_metros ** 2)\n",
        "\n",
        "    # Devolver el BMI redondeado a dos decimales\n",
        "    return round(bmi, 2)\n",
        "\n",
        "# Ejemplo de uso\n",
        "peso = 150  # peso en libras\n",
        "altura = 65  # altura en pulgadas\n",
        "\n",
        "bmi = calcular_bmi(peso, altura)\n",
        "print(bmi)"
      ],
      "metadata": {
        "id": "z0Qkx1UOlFck"
      },
      "execution_count": null,
      "outputs": []
    }
  ]
}