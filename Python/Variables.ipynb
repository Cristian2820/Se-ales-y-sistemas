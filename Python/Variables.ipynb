{
  "nbformat": 4,
  "nbformat_minor": 0,
  "metadata": {
    "colab": {
      "provenance": [],
      "authorship_tag": "ABX9TyMl2/cnrC71DIIcAWDi3IsE",
      "include_colab_link": true
    },
    "kernelspec": {
      "name": "python3",
      "display_name": "Python 3"
    },
    "language_info": {
      "name": "python"
    }
  },
  "cells": [
    {
      "cell_type": "markdown",
      "metadata": {
        "id": "view-in-github",
        "colab_type": "text"
      },
      "source": [
        "<a href=\"https://colab.research.google.com/github/Cristian2820/Senales-y-sistemas/blob/main/Python/Variables.ipynb\" target=\"_parent\"><img src=\"https://colab.research.google.com/assets/colab-badge.svg\" alt=\"Open In Colab\"/></a>"
      ]
    },
    {
      "cell_type": "markdown",
      "source": [
        "**Write a program that displays the result of the following arithmetic operation on the screen: $x(t) = \\left(\\frac{3+2}{2.5}\\right)^2$**"
      ],
      "metadata": {
        "id": "KyAGBjwnW44u"
      }
    },
    {
      "cell_type": "code",
      "source": [
        "from math import pow\n",
        "\n",
        "cr = int(input(\"Cantidad de registros: \"))\n",
        "for nr in range(cr):\n",
        "    A = float(input(\"Digite su primer digito: \"))\n",
        "    B = float(input(\"Digite su segundo número: \"))\n",
        "    while True:\n",
        "        C = float(input(\"Digite su tercer número en donde n>0: \"))\n",
        "        if C > 0 or C < 0:\n",
        "            break\n",
        "        else:\n",
        "            print(\"El tercer número debe ser mayor que 0. Por favor, inténtelo nuevamente.\")\n",
        "    while True:\n",
        "        try:\n",
        "            D = int(input(\"Ingrese un número entero para el exponente: \"))\n",
        "            break\n",
        "        except ValueError:\n",
        "            print(\"El exponente debe ser un número entero. Por favor, inténtelo nuevamente.\")\n",
        "    E = (A + B) / C\n",
        "    X = pow(E,D)\n",
        "    print(f\"La potencia de {E} elavado a la {D} es: {X}\", f\"este es el valor de A = {A}, B = {B}, C = {C}, D = {D}\")"
      ],
      "metadata": {
        "id": "GRYdu-jiW98m"
      },
      "execution_count": null,
      "outputs": []
    },
    {
      "cell_type": "markdown",
      "source": [
        "**Write a program that asks the user for the number of hours worked and the hourly rate. Then, it should display on the screen the corresponding payment.**"
      ],
      "metadata": {
        "id": "GwPkGZREXIgl"
      }
    },
    {
      "cell_type": "code",
      "source": [
        "cr=int(input(\"Ingrese la cantidad de registros \"))\n",
        "for nr in range(cr):\n",
        "  A=int(input(\"número de horas trabajadas \"))\n",
        "  B=float(input(\"tarifa de salario \"))\n",
        "  C=A*B\n",
        "  print(f\"Este es el salrio que se le debe pagar al trabajador que es de {C}\")"
      ],
      "metadata": {
        "id": "wm7I0Z7xXQkw"
      },
      "execution_count": null,
      "outputs": []
    },
    {
      "cell_type": "markdown",
      "source": [
        "**Write a program that asks the user for their weight (in kg) and height (in meters), calculates the body mass index (BMI), stores it in a variable, and displays the message \"Your body mass index is imc\" on the screen, where imc is the calculated BMI rounded to two decimal places.**"
      ],
      "metadata": {
        "id": "td76mgeHXax8"
      }
    },
    {
      "cell_type": "code",
      "source": [
        "cr=int(input(\"Número de registros \"))\n",
        "for nr in range(cr):\n",
        "  A=float(input(\"Ingrese su peso en Kg \"))\n",
        "  while True:\n",
        "        B = float(input(\"Ingrese su estatura en metros teniendo presente que n>0: \"))\n",
        "        if B > 0:\n",
        "            break\n",
        "        else:\n",
        "            print(\"La estatura debe ser mayor que 0. Por favor, inténtelo nuevamente.\")\n",
        "  C=pow(B,2)\n",
        "  D=A/C\n",
        "  imc=round(D,2)\n",
        "  print(f\"Su indice de masa corporal es {imc}\")"
      ],
      "metadata": {
        "id": "RoXQhkRXXjXT"
      },
      "execution_count": null,
      "outputs": []
    }
  ]
}