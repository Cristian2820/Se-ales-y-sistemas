{
  "nbformat": 4,
  "nbformat_minor": 0,
  "metadata": {
    "colab": {
      "provenance": [],
      "authorship_tag": "ABX9TyNEoJ1kS4e08wKZg0tH4xwp",
      "include_colab_link": true
    },
    "kernelspec": {
      "name": "python3",
      "display_name": "Python 3"
    },
    "language_info": {
      "name": "python"
    }
  },
  "cells": [
    {
      "cell_type": "markdown",
      "metadata": {
        "id": "view-in-github",
        "colab_type": "text"
      },
      "source": [
        "<a href=\"https://colab.research.google.com/github/Cristian2820/Senales-y-sistemas/blob/main/Loops.ipynb\" target=\"_parent\"><img src=\"https://colab.research.google.com/assets/colab-badge.svg\" alt=\"Open In Colab\"/></a>"
      ]
    },
    {
      "cell_type": "markdown",
      "source": [
        "**Write a code that ask the user to enter an integer number every time, and the process will be repeated with more numbers until the user enters a zero.\n",
        "At the end (when the zero is entered), show the amount of numbers entered.**"
      ],
      "metadata": {
        "id": "eHXYOJ6jgus2"
      }
    },
    {
      "cell_type": "code",
      "source": [
        "\n",
        "# Inicializar el contador de números ingresados\n",
        "contador = 0\n",
        "\n",
        "# Bucle para pedir números al usuario hasta que se introduzca un 0\n",
        "while True:\n",
        "    numero = int(input(\"Introduce un número entero (0 para terminar): \"))\n",
        "\n",
        "    if numero == 0:\n",
        "        break  # Salir del bucle si se introduce un 0\n",
        "\n",
        "    contador += 1  # Incrementar el contador de números\n",
        "\n",
        "# Mostrar la cantidad total de números ingresados\n",
        "print(f\"Has ingresado {contador} números.\")"
      ],
      "metadata": {
        "id": "KMVBTeX4gzy0"
      },
      "execution_count": null,
      "outputs": []
    },
    {
      "cell_type": "markdown",
      "source": [
        "**Use the input() function to ask for the user to enter one integer number. Only if the number is even, it will be accumulated.\n",
        "\n",
        "The program must come to an end if the sum of the numbers surpasses 50 or if the user enters a maximum of 10 numbers.**"
      ],
      "metadata": {
        "id": "8BVItvxghKgQ"
      }
    },
    {
      "cell_type": "code",
      "source": [
        "\n",
        "# Inicializar variables\n",
        "suma = 0\n",
        "contador = 0\n",
        "\n",
        "# Bucle para pedir hasta 10 números o hasta que la suma supere 50\n",
        "while contador < 10 and suma <= 50:\n",
        "    numero = int(input(\"Introduce un número entero: \"))\n",
        "    contador += 1  # Incrementar el contador de números ingresados\n",
        "\n",
        "    if numero % 2 == 0:  # Verificar si el número es par\n",
        "        suma += numero  # Acumular solo si el número es par\n",
        "\n",
        "    if suma > 50:\n",
        "        break  # Terminar si la suma supera 50\n",
        "\n",
        "# Mostrar el resultado final\n",
        "print(f\"Suma acumulada de números pares: {suma}\")\n",
        "print(f\"Números ingresados: {contador}\")"
      ],
      "metadata": {
        "colab": {
          "base_uri": "https://localhost:8080/"
        },
        "id": "pNOjzAYFhzMI",
        "outputId": "9f9e1b45-b8b4-4ac0-af9d-e54b4ea3d346"
      },
      "execution_count": null,
      "outputs": [
        {
          "output_type": "stream",
          "name": "stdout",
          "text": [
            "Introduce un número entero: 30\n",
            "Introduce un número entero: 30\n",
            "Suma acumulada de números pares: 60\n",
            "Números ingresados: 2\n"
          ]
        }
      ]
    }
  ]
}