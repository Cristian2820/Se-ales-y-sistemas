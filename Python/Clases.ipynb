{
  "nbformat": 4,
  "nbformat_minor": 0,
  "metadata": {
    "colab": {
      "provenance": [],
      "authorship_tag": "ABX9TyPQ7/am1j97SR90w8pyKgkX",
      "include_colab_link": true
    },
    "kernelspec": {
      "name": "python3",
      "display_name": "Python 3"
    },
    "language_info": {
      "name": "python"
    }
  },
  "cells": [
    {
      "cell_type": "markdown",
      "metadata": {
        "id": "view-in-github",
        "colab_type": "text"
      },
      "source": [
        "<a href=\"https://colab.research.google.com/github/Cristian2820/Senales-y-sistemas/blob/main/Python/Clases.ipynb\" target=\"_parent\"><img src=\"https://colab.research.google.com/assets/colab-badge.svg\" alt=\"Open In Colab\"/></a>"
      ]
    },
    {
      "cell_type": "markdown",
      "source": [
        "**Crea una clase \"Persona\" que tenga atributos como nombre, edad, género y métodos para presentarse y saludar a otras personas.**"
      ],
      "metadata": {
        "id": "BbkO-Ad-peeo"
      }
    },
    {
      "cell_type": "code",
      "source": [
        "\n",
        "class Persona:\n",
        "    def __init__(self, nombre, edad, genero):\n",
        "        # Atributos de la clase\n",
        "        self.nombre = nombre\n",
        "        self.edad = edad\n",
        "        self.genero = genero\n",
        "\n",
        "    def presentarse(self):\n",
        "        # Método para presentarse\n",
        "        return f\"Hola, soy {self.nombre}, tengo {self.edad} años y mi género es {self.genero}.\"\n",
        "\n",
        "    def saludar(self, otra_persona):\n",
        "        # Método para saludar a otra persona\n",
        "        if isinstance(otra_persona, Persona):\n",
        "            return f\"Hola {otra_persona.nombre}, soy {self.nombre}. Encantado de conocerte.\"\n",
        "        else:\n",
        "            return \"El saludo debe ser dirigido a una instancia de la clase Persona.\"\n",
        "\n",
        "# Ejemplo de uso\n",
        "persona1 = Persona(\"Ana\", 30, \"Femenino\")\n",
        "persona2 = Persona(\"Luis\", 25, \"Masculino\")\n",
        "\n",
        "# Mostrar presentación de persona1\n",
        "print(persona1.presentarse())  # Salida: Hola, soy Ana, tengo 30 años y mi género es Femenino.\n",
        "\n",
        "# Mostrar saludo de persona1 a persona2\n",
        "print(persona1.saludar(persona2))  # Salida: Hola Luis, soy Ana. Encantado de conocerte."
      ],
      "metadata": {
        "id": "pIThzi7pp9x2"
      },
      "execution_count": null,
      "outputs": []
    },
    {
      "cell_type": "markdown",
      "source": [
        "\n",
        "**Crea una clase \"Coche\" que tenga atributos como marca, modelo, año, kilometraje y métodos para arrancar, acelerar y frenar.**"
      ],
      "metadata": {
        "id": "61Z9evLnqW3J"
      }
    },
    {
      "cell_type": "code",
      "source": [
        "class Coche:\n",
        "    def __init__(self, marca, modelo, año, kilometraje):\n",
        "        self.marca = marca\n",
        "        self.modelo = modelo\n",
        "        self.año = año\n",
        "        self.kilometraje = kilometraje\n",
        "        self.encendido = False\n",
        "        self.velocidad = 0\n",
        "\n",
        "    def arrancar(self):\n",
        "        if not self.encendido:\n",
        "            self.encendido = True\n",
        "            print(f\"{self.marca} {self.modelo} ha arrancado.\")\n",
        "        else:\n",
        "            print(f\"{self.marca} {self.modelo} ya está encendido.\")\n",
        "\n",
        "    def acelerar(self, incremento):\n",
        "        if self.encendido:\n",
        "            self.velocidad += incremento\n",
        "            print(f\"{self.marca} {self.modelo} ha acelerado a {self.velocidad} km/h.\")\n",
        "        else:\n",
        "            print(f\"Primero debes arrancar el {self.marca} {self.modelo}.\")\n",
        "\n",
        "    def frenar(self, decremento):\n",
        "        if self.encendido:\n",
        "            if self.velocidad - decremento <= 0:\n",
        "                self.velocidad = 0\n",
        "                print(f\"{self.marca} {self.modelo} se ha detenido.\")\n",
        "            else:\n",
        "                self.velocidad -= decremento\n",
        "                print(f\"{self.marca} {self.modelo} ha reducido su velocidad a {self.velocidad} km/h.\")\n",
        "        else:\n",
        "            print(f\"El coche está apagado.\")\n",
        "\n",
        "    def __str__(self):\n",
        "        return f\"Coche: {self.marca} {self.modelo} ({self.año}) - Kilometraje: {self.kilometraje} km\"\n",
        "\n",
        "# Ejemplo de uso\n",
        "mi_coche = Coche(\"Toyota\", \"Corolla\", 2020, 15000)\n",
        "print(mi_coche)\n",
        "mi_coche.arrancar()\n",
        "mi_coche.acelerar(50)\n",
        "mi_coche.frenar(20)\n",
        "mi_coche.frenar(30)"
      ],
      "metadata": {
        "id": "AgczlpjHqdIt"
      },
      "execution_count": null,
      "outputs": []
    },
    {
      "cell_type": "markdown",
      "source": [
        "**Crea una clase \"Rectángulo\" que tenga atributos como longitud y ancho y métodos para calcular el área y el perímetro.**"
      ],
      "metadata": {
        "id": "DPlK2zo0Pg9A"
      }
    },
    {
      "cell_type": "code",
      "source": [
        "class Rectangulo:\n",
        "    def __init__(self, longitud, ancho):\n",
        "        self.longitud = longitud\n",
        "        self.ancho = ancho\n",
        "\n",
        "    def calcular_area(self):\n",
        "        return self.longitud * self.ancho\n",
        "\n",
        "    def calcular_perimetro(self):\n",
        "        return 2 * (self.longitud + self.ancho)\n",
        "\n",
        "    def __str__(self):\n",
        "        return f\"Rectángulo: longitud = {self.longitud}, ancho = {self.ancho}\"\n",
        "\n",
        "# Ejemplo de uso\n",
        "mi_rectangulo = Rectangulo(10, 5)\n",
        "print(mi_rectangulo)\n",
        "print(f\"Área: {mi_rectangulo.calcular_area()} unidades cuadradas\")\n",
        "print(f\"Perímetro: {mi_rectangulo.calcular_perimetro()} unidades\")"
      ],
      "metadata": {
        "id": "PK-A9O18PnYD"
      },
      "execution_count": null,
      "outputs": []
    },
    {
      "cell_type": "markdown",
      "source": [
        "**Crea una clase \"Banco\" que tenga atributos como nombre, dirección y métodos para abrir una cuenta, depositar dinero, retirar dinero y revisar el saldo.**"
      ],
      "metadata": {
        "id": "aYs54kF4Pv-n"
      }
    },
    {
      "cell_type": "code",
      "source": [
        "class Banco:\n",
        "    def __init__(self, nombre, direccion):\n",
        "        self.nombre = nombre\n",
        "        self.direccion = direccion\n",
        "        self.cuentas = {}\n",
        "\n",
        "    def abrir_cuenta(self, numero_cuenta, titular):\n",
        "        if numero_cuenta in self.cuentas:\n",
        "            print(f\"La cuenta {numero_cuenta} ya existe.\")\n",
        "        else:\n",
        "            self.cuentas[numero_cuenta] = {\"titular\": titular, \"saldo\": 0}\n",
        "            print(f\"Cuenta {numero_cuenta} abierta a nombre de {titular}.\")\n",
        "\n",
        "    def depositar_dinero(self, numero_cuenta, monto):\n",
        "        if numero_cuenta in self.cuentas:\n",
        "            self.cuentas[numero_cuenta][\"saldo\"] += monto\n",
        "            print(f\"Se han depositado {monto} en la cuenta {numero_cuenta}. Saldo actual: {self.cuentas[numero_cuenta]['saldo']}.\")\n",
        "        else:\n",
        "            print(f\"La cuenta {numero_cuenta} no existe.\")\n",
        "\n",
        "    def retirar_dinero(self, numero_cuenta, monto):\n",
        "        if numero_cuenta in self.cuentas:\n",
        "            if self.cuentas[numero_cuenta][\"saldo\"] >= monto:\n",
        "                self.cuentas[numero_cuenta][\"saldo\"] -= monto\n",
        "                print(f\"Se han retirado {monto} de la cuenta {numero_cuenta}. Saldo actual: {self.cuentas[numero_cuenta]['saldo']}.\")\n",
        "            else:\n",
        "                print(f\"Fondos insuficientes en la cuenta {numero_cuenta}. Saldo actual: {self.cuentas[numero_cuenta]['saldo']}.\")\n",
        "        else:\n",
        "            print(f\"La cuenta {numero_cuenta} no existe.\")\n",
        "\n",
        "    def revisar_saldo(self, numero_cuenta):\n",
        "        if numero_cuenta in self.cuentas:\n",
        "            saldo = self.cuentas[numero_cuenta][\"saldo\"]\n",
        "            print(f\"El saldo de la cuenta {numero_cuenta} es {saldo}.\")\n",
        "        else:\n",
        "            print(f\"La cuenta {numero_cuenta} no existe.\")\n",
        "\n",
        "    def __str__(self):\n",
        "        return f\"Banco: {self.nombre}\\nDirección: {self.direccion}\\nCuentas abiertas: {len(self.cuentas)}\"\n",
        "\n",
        "# Ejemplo de uso\n",
        "mi_banco = Banco(\"Banco Central\", \"Calle Principal 123\")\n",
        "print(mi_banco)\n",
        "\n",
        "mi_banco.abrir_cuenta(\"123456\", \"Juan Pérez\")\n",
        "mi_banco.depositar_dinero(\"123456\", 500)\n",
        "mi_banco.revisar_saldo(\"123456\")\n",
        "mi_banco.retirar_dinero(\"123456\", 200)\n",
        "mi_banco.revisar_saldo(\"123456\")\n",
        "mi_banco.retirar_dinero(\"123456\", 400)"
      ],
      "metadata": {
        "id": "INssMEg-Pzfp"
      },
      "execution_count": null,
      "outputs": []
    },
    {
      "cell_type": "markdown",
      "source": [
        "**Crea una clase \"Estudiante\" que tenga atributos como nombre, edad, promedio y métodos para estudiar, hacer tareas y presentar exámenes.**"
      ],
      "metadata": {
        "id": "JbJQsQsBP9LX"
      }
    },
    {
      "cell_type": "code",
      "source": [
        "class Estudiante:\n",
        "    def __init__(self, nombre, edad, promedio):\n",
        "        self.nombre = nombre\n",
        "        self.edad = edad\n",
        "        self.promedio = promedio\n",
        "\n",
        "    def estudiar(self, horas):\n",
        "        print(f\"{self.nombre} ha estudiado durante {horas} horas.\")\n",
        "        self.promedio += 0.1 * horas  # Simula un pequeño incremento en el promedio al estudiar\n",
        "        self.promedio = min(self.promedio, 10)  # Asegura que el promedio no exceda 10\n",
        "\n",
        "    def hacer_tareas(self):\n",
        "        print(f\"{self.nombre} ha hecho sus tareas.\")\n",
        "        self.promedio += 0.2  # Simula un pequeño incremento en el promedio al hacer tareas\n",
        "        self.promedio = min(self.promedio, 10)  # Asegura que el promedio no exceda 10\n",
        "\n",
        "    def presentar_examen(self, calificacion):\n",
        "        print(f\"{self.nombre} ha presentado un examen y obtuvo una calificación de {calificacion}.\")\n",
        "        # Ajusta el promedio considerando el nuevo examen presentado\n",
        "        self.promedio = (self.promedio + calificacion) / 2\n",
        "\n",
        "    def __str__(self):\n",
        "        return f\"Estudiante: {self.nombre}, Edad: {self.edad}, Promedio: {self.promedio:.2f}\"\n",
        "\n",
        "# Ejemplo de uso\n",
        "estudiante = Estudiante(\"Ana Gómez\", 20, 8.5)\n",
        "print(estudiante)\n",
        "\n",
        "estudiante.estudiar(5)\n",
        "print(estudiante)\n",
        "\n",
        "estudiante.hacer_tareas()\n",
        "print(estudiante)\n",
        "\n",
        "estudiante.presentar_examen(9)\n",
        "print(estudiante)\n"
      ],
      "metadata": {
        "id": "OTF48yXvQVLS"
      },
      "execution_count": null,
      "outputs": []
    }
  ]
}