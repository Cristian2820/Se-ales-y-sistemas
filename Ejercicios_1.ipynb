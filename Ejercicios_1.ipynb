{
  "nbformat": 4,
  "nbformat_minor": 0,
  "metadata": {
    "colab": {
      "provenance": [],
      "authorship_tag": "ABX9TyPZ5sFIK5AMXtIyBw2qcBY4",
      "include_colab_link": true
    },
    "kernelspec": {
      "name": "python3",
      "display_name": "Python 3"
    },
    "language_info": {
      "name": "python"
    }
  },
  "cells": [
    {
      "cell_type": "markdown",
      "metadata": {
        "id": "view-in-github",
        "colab_type": "text"
      },
      "source": [
        "<a href=\"https://colab.research.google.com/github/Cristian2820/Se-ales-y-sistemas/blob/main/Ejercicios_1.ipynb\" target=\"_parent\"><img src=\"https://colab.research.google.com/assets/colab-badge.svg\" alt=\"Open In Colab\"/></a>"
      ]
    },
    {
      "cell_type": "markdown",
      "source": [
        "# Cuaderno 1 - Ejercicios Python\n",
        "## Cristian López Uribe 2024 1"
      ],
      "metadata": {
        "id": "IxPAsMj1ovyk"
      }
    },
    {
      "cell_type": "markdown",
      "source": [
        "1. Write a program that displays the result of the following arithmetic operation on the screen: x(t)=((3+2)/2.5)^2"
      ],
      "metadata": {
        "id": "PUWfCjfEr3xu"
      }
    },
    {
      "cell_type": "code",
      "source": [
        "from math import pow\n",
        "\n",
        "cr = int(input(\"Cantidad de registros: \"))\n",
        "for nr in range(cr):\n",
        "    A = float(input(\"Digite su primer digito: \"))\n",
        "    B = float(input(\"Digite su segundo número: \"))\n",
        "    while True:\n",
        "        C = float(input(\"Digite su tercer número en donde n>0: \"))\n",
        "        if C > 0 or C < 0:\n",
        "            break\n",
        "        else:\n",
        "            print(\"El tercer número debe ser mayor que 0. Por favor, inténtelo nuevamente.\")\n",
        "    while True:\n",
        "        try:\n",
        "            D = int(input(\"Ingrese un número entero para el exponente: \"))\n",
        "            break\n",
        "        except ValueError:\n",
        "            print(\"El exponente debe ser un número entero. Por favor, inténtelo nuevamente.\")\n",
        "    E = (A + B) / C\n",
        "    X = pow(E,D)\n",
        "    print(f\"La potencia de {E} elavado a la {D} es: {X}\", f\"este es el valor de A = {A}, B = {B}, C = {C}, D = {D}\")"
      ],
      "metadata": {
        "id": "CYRGtbeasqsv"
      },
      "execution_count": null,
      "outputs": []
    },
    {
      "cell_type": "markdown",
      "source": [
        "2. Write a program that asks the user for the number of hours worked and the hourly rate. Then, it should display on the screen the corresponding payment."
      ],
      "metadata": {
        "id": "HjiAYaeNswGG"
      }
    },
    {
      "cell_type": "code",
      "execution_count": 1,
      "metadata": {
        "colab": {
          "base_uri": "https://localhost:8080/"
        },
        "id": "elWJkmdLP7Tb",
        "outputId": "e6254a9f-7926-4710-821a-47f090dbab89"
      },
      "outputs": [
        {
          "output_type": "stream",
          "name": "stdout",
          "text": [
            "Ingrese la cantidad de registros 1\n",
            "número de horas trabajadas 15\n",
            "tarifa de salario 8500\n",
            "Este es el salrio que se le debe pagar al trabajador que es de 127500.0\n"
          ]
        }
      ],
      "source": [
        "cr=int(input(\"Ingrese la cantidad de registros \"))\n",
        "for nr in range(cr):\n",
        "  A=int(input(\"número de horas trabajadas \"))\n",
        "  B=float(input(\"tarifa de salario \"))\n",
        "  C=A*B\n",
        "  print(f\"Este es el salrio que se le debe pagar al trabajador que es de {C}\")"
      ]
    },
    {
      "cell_type": "markdown",
      "source": [
        "3. Write a program that asks the user for their weight (in kg) and height (in meters), calculates the body mass index (BMI), stores it in a variable, and displays the message \"Your body mass index is imc\" on the screen, where imc is the calculated BMI rounded to two decimal places."
      ],
      "metadata": {
        "id": "TxZHGHWatCXO"
      }
    },
    {
      "cell_type": "code",
      "source": [
        "cr=int(input(\"Número de registros \"))\n",
        "for nr in range(cr):\n",
        "  A=float(input(\"Ingrese su peso en Kg \"))\n",
        "  while True:\n",
        "        B = float(input(\"Ingrese su estatura en metros teniendo presente que n>0: \"))\n",
        "        if B > 0:\n",
        "            break\n",
        "        else:\n",
        "            print(\"La estatura debe ser mayor que 0. Por favor, inténtelo nuevamente.\")\n",
        "  C=pow(B,2)\n",
        "  D=A/C\n",
        "  imc=round(D,2)\n",
        "  print(f\"Su indice de masa corporal es {imc}\")"
      ],
      "metadata": {
        "id": "sI72kug1qzIn"
      },
      "execution_count": null,
      "outputs": []
    },
    {
      "cell_type": "markdown",
      "source": [
        "# Cuaderno 2"
      ],
      "metadata": {
        "id": "f-TjYXB4-FNc"
      }
    },
    {
      "cell_type": "markdown",
      "source": [
        "1. In order to pay a certain tax, you must be over 16 years old and have a monthly income equal to or greater than €1000. Write a program that asks the user for their age and monthly income, and displays whether the user has to pay the tax or not."
      ],
      "metadata": {
        "id": "mls0rIk7yfr5"
      }
    },
    {
      "cell_type": "code",
      "source": [
        "cr=int(input(\"Número de registros \"))\n",
        "for nr in range(cr):\n",
        "  while True:\n",
        "        A = float(input(\"Ingrese su edad \"))\n",
        "        B = float(input(\"Ingrese sus ingresos mensuales \"))\n",
        "        if A > 16 and B>1000:\n",
        "            print(\"Debe pagar impuestos\")\n",
        "            break\n",
        "        else:\n",
        "            print(\"No debe pagar impuestos.\")"
      ],
      "metadata": {
        "colab": {
          "base_uri": "https://localhost:8080/"
        },
        "id": "ioRkQ0AGvxs9",
        "outputId": "3c84c82f-2ed2-49e0-a2bb-90a923183cd0"
      },
      "execution_count": 5,
      "outputs": [
        {
          "output_type": "stream",
          "name": "stdout",
          "text": [
            "Número de registros 1\n",
            "Ingrese  18\n",
            "Ingrese sus ingresos mensuales 1200\n",
            "Debe pagar impuestos\n"
          ]
        }
      ]
    },
    {
      "cell_type": "markdown",
      "source": [
        "2. The Bella Napoli pizzeria offers vegetarian and non-vegetarian pizzas to its customers. The ingredients for each type of pizza are as follows:\n",
        "Vegetarian ingredients: Bell peppers and tofu.\n",
        "Non-vegetarian ingredients: Pepperoni, Ham, and Salmon.\n",
        "Write a program that asks the user if they want a vegetarian pizza or not, and based on their response, displays a menu with the available ingredients for them to choose from. Only one additional ingredient can be chosen besides the mozzarella and tomato, which are included in all pizzas. Finally, the program should display whether the chosen pizza is vegetarian or not, along with all the ingredients it contains.\n"
      ],
      "metadata": {
        "id": "8N8MgxInzCL8"
      }
    },
    {
      "cell_type": "code",
      "source": [
        "cr=int(input(\"Número de registros \"))\n",
        "for nr in range(cr):\n",
        "  while True:\n",
        "    A=int(input(\"Pizza vegertariana (1) o Pizza no vegetariana(0)\"))\n",
        "    if A==1:\n",
        "      B=int(input(\"Adición de pimientos(1) o morrones (2) o tofu (3)\"))\n",
        "      if B==1:\n",
        "        print(\"La pizza es vegetariana trae queso mozarrella y tomates con adición de pimientos\")\n",
        "        break\n",
        "      elif B==2:\n",
        "        print(\"La pizza es vegetariana trae queso mozarrella y tomates con adición de morrones\")\n",
        "        break\n",
        "      else:\n",
        "        print(\"La pizza es vegetariana trae queso mozarrella y tomates con adición de tofu\")\n",
        "        break\n",
        "    else:\n",
        "      C=int(input(\"Adición de peperoni (1) o jamón (2) o salmon (3)\"))\n",
        "      if C==1:\n",
        "        print(\"La pizza no es vegetariana trae queso mozarrella y tomates con adición de peporoni\")\n",
        "        break\n",
        "      elif C==2:\n",
        "        print(\"La pizza no es vegetariana trae queso mozarrella y tomates con adición de jamón\")\n",
        "        break\n",
        "      else :\n",
        "        print(\"La pizza no es vegetariana trae queso mozarrella y tomates con adición de salmon\")\n",
        "        break"
      ],
      "metadata": {
        "colab": {
          "base_uri": "https://localhost:8080/"
        },
        "id": "CWAGLesd3XAA",
        "outputId": "bc0d77ba-8937-4319-a801-88e7a52e92f0"
      },
      "execution_count": 17,
      "outputs": [
        {
          "output_type": "stream",
          "name": "stdout",
          "text": [
            "Número de registros 1\n",
            "Pizza vegertariana (1) o Pizza no vegetariana(0)1\n",
            "Adición de pimientos(1) o morrones (2) o tofu (3)3\n",
            "La pizza es vegetariana trae queso mozarrella y tomatescon adición de tofu\n"
          ]
        }
      ]
    }
  ]
}