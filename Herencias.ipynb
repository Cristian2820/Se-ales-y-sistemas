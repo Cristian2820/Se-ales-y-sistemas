{
  "nbformat": 4,
  "nbformat_minor": 0,
  "metadata": {
    "colab": {
      "provenance": [],
      "authorship_tag": "ABX9TyNgXkWHg45gt7wJ+UqpAfoe",
      "include_colab_link": true
    },
    "kernelspec": {
      "name": "python3",
      "display_name": "Python 3"
    },
    "language_info": {
      "name": "python"
    }
  },
  "cells": [
    {
      "cell_type": "markdown",
      "metadata": {
        "id": "view-in-github",
        "colab_type": "text"
      },
      "source": [
        "<a href=\"https://colab.research.google.com/github/Cristian2820/Senales-y-sistemas/blob/main/Herencias.ipynb\" target=\"_parent\"><img src=\"https://colab.research.google.com/assets/colab-badge.svg\" alt=\"Open In Colab\"/></a>"
      ]
    },
    {
      "cell_type": "markdown",
      "source": [
        "**Crea un sistema de manejo de figuras geométricas utilizando clases y herencia. Debes tener una clase base llamada \"FiguraGeometrica\" con un método abstracto llamado \"calcular_area()\". Luego, crea clases derivadas para diferentes tipos de figuras geométricas, como \"Círculo\", \"Rectángulo\" y \"Triángulo\". Cada clase derivada debe implementar el método \"calcular_area()\" de acuerdo con la fórmula correspondiente para el cálculo del área de esa figura.**"
      ],
      "metadata": {
        "id": "cSejqvuJQpUP"
      }
    },
    {
      "cell_type": "code",
      "source": [
        "from abc import ABC, abstractmethod\n",
        "import math\n",
        "\n",
        "# Clase base abstracta\n",
        "class FiguraGeometrica(ABC):\n",
        "    @abstractmethod\n",
        "    def calcular_area(self):\n",
        "        pass\n",
        "\n",
        "# Clase derivada para Círculo\n",
        "class Circulo(FiguraGeometrica):\n",
        "    def __init__(self, radio):\n",
        "        self.radio = radio\n",
        "\n",
        "    def calcular_area(self):\n",
        "        return math.pi * self.radio ** 2\n",
        "\n",
        "# Clase derivada para Rectángulo\n",
        "class Rectangulo(FiguraGeometrica):\n",
        "    def __init__(self, longitud, ancho):\n",
        "        self.longitud = longitud\n",
        "        self.ancho = ancho\n",
        "\n",
        "    def calcular_area(self):\n",
        "        return self.longitud * self.ancho\n",
        "\n",
        "# Clase derivada para Triángulo\n",
        "class Triangulo(FiguraGeometrica):\n",
        "    def __init__(self, base, altura):\n",
        "        self.base = base\n",
        "        self.altura = altura\n",
        "\n",
        "    def calcular_area(self):\n",
        "        return (self.base * self.altura) / 2\n",
        "\n",
        "# Ejemplo de uso\n",
        "figuras = [\n",
        "    Circulo(5),\n",
        "    Rectangulo(10, 5),\n",
        "    Triangulo(8, 6)\n",
        "]\n",
        "\n",
        "for figura in figuras:\n",
        "    print(f\"El área de la figura es: {figura.calcular_area():.2f}\")"
      ],
      "metadata": {
        "id": "uBDm7HA7QwVh"
      },
      "execution_count": null,
      "outputs": []
    },
    {
      "cell_type": "markdown",
      "source": [
        "**Crea un sistema de reserva de vuelos utilizando clases y herencia. Debes tener una clase base llamada \"Vuelo\" con los siguientes atributos: número de vuelo, origen, destino, y capacidad máxima de pasajeros. Luego, crea una clase derivada llamada \"VueloEconomico\" que herede de la clase base y agregue un atributo adicional llamado \"tarifa\". Además, agrega métodos en ambas clases para mostrar la información del vuelo y realizar una reserva de asientos.**\n",
        "\n",
        "**La clase base \"Vuelo\" debe tener un método para verificar si hay asientos disponibles y otro para realizar la reserva de un asiento. La clase derivada \"VueloEconomico\" puede tener métodos adicionales para calcular el precio total de la reserva de acuerdo con la tarifa y la cantidad de asientos reservados.**"
      ],
      "metadata": {
        "id": "JepvYwH7RAyp"
      }
    },
    {
      "cell_type": "code",
      "source": [
        "# Clase base\n",
        "class Vuelo:\n",
        "    def __init__(self, numero_vuelo, origen, destino, capacidad_maxima):\n",
        "        self.numero_vuelo = numero_vuelo\n",
        "        self.origen = origen\n",
        "        self.destino = destino\n",
        "        self.capacidad_maxima = capacidad_maxima\n",
        "        self.asientos_reservados = 0\n",
        "\n",
        "    def mostrar_informacion(self):\n",
        "        print(f\"Vuelo {self.numero_vuelo}: {self.origen} -> {self.destino}\")\n",
        "        print(f\"Capacidad máxima: {self.capacidad_maxima} pasajeros\")\n",
        "        print(f\"Asientos reservados: {self.asientos_reservados}\")\n",
        "        print(f\"Asientos disponibles: {self.capacidad_maxima - self.asientos_reservados}\")\n",
        "\n",
        "    def hay_asientos_disponibles(self):\n",
        "        return self.asientos_reservados < self.capacidad_maxima\n",
        "\n",
        "    def reservar_asiento(self, cantidad=1):\n",
        "        if self.hay_asientos_disponibles() and self.asientos_reservados + cantidad <= self.capacidad_maxima:\n",
        "            self.asientos_reservados += cantidad\n",
        "            print(f\"{cantidad} asiento(s) reservado(s) con éxito.\")\n",
        "        else:\n",
        "            print(\"No hay suficientes asientos disponibles para la reserva.\")\n",
        "\n",
        "# Clase derivada para vuelos económicos\n",
        "class VueloEconomico(Vuelo):\n",
        "    def __init__(self, numero_vuelo, origen, destino, capacidad_maxima, tarifa):\n",
        "        super().__init__(numero_vuelo, origen, destino, capacidad_maxima)\n",
        "        self.tarifa = tarifa\n",
        "\n",
        "    def mostrar_informacion(self):\n",
        "        super().mostrar_informacion()\n",
        "        print(f\"Tarifa por asiento: ${self.tarifa:.2f}\")\n",
        "\n",
        "    def calcular_precio_total(self, cantidad):\n",
        "        return self.tarifa * cantidad\n",
        "\n",
        "    def reservar_asiento(self, cantidad=1):\n",
        "        if self.hay_asientos_disponibles() and self.asientos_reservados + cantidad <= self.capacidad_maxima:\n",
        "            super().reservar_asiento(cantidad)\n",
        "            total = self.calcular_precio_total(cantidad)\n",
        "            print(f\"Precio total para {cantidad} asiento(s): ${total:.2f}\")\n",
        "        else:\n",
        "            print(\"No hay suficientes asientos disponibles para la reserva.\")\n",
        "\n",
        "# Ejemplo de uso\n",
        "vuelo1 = Vuelo(\"AB123\", \"Bogotá\", \"Medellín\", 100)\n",
        "vuelo1.mostrar_informacion()\n",
        "vuelo1.reservar_asiento(3)\n",
        "vuelo1.mostrar_informacion()\n",
        "\n",
        "print(\"\\n\")\n",
        "\n",
        "vuelo2 = VueloEconomico(\"CD456\", \"Bogotá\", \"Cartagena\", 150, 75.50)\n",
        "vuelo2.mostrar_informacion()\n",
        "vuelo2.reservar_asiento(4)\n",
        "vuelo2.mostrar_informacion()"
      ],
      "metadata": {
        "id": "qp_xT5YARKwW"
      },
      "execution_count": null,
      "outputs": []
    }
  ]
}