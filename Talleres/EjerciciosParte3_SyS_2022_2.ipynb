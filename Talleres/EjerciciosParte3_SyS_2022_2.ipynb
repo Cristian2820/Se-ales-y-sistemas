{
  "nbformat": 4,
  "nbformat_minor": 0,
  "metadata": {
    "colab": {
      "provenance": [],
      "authorship_tag": "ABX9TyP19wL5SEnG09wDoIoKArlX",
      "include_colab_link": true
    },
    "kernelspec": {
      "name": "python3",
      "display_name": "Python 3"
    },
    "language_info": {
      "name": "python"
    }
  },
  "cells": [
    {
      "cell_type": "markdown",
      "metadata": {
        "id": "view-in-github",
        "colab_type": "text"
      },
      "source": [
        "<a href=\"https://colab.research.google.com/github/Cristian2820/Senales-y-sistemas/blob/main/Talleres/EjerciciosParte3_SyS_2022_2.ipynb\" target=\"_parent\"><img src=\"https://colab.research.google.com/assets/colab-badge.svg\" alt=\"Open In Colab\"/></a>"
      ]
    },
    {
      "cell_type": "markdown",
      "source": [
        "#**1.Transformada de Laplace y analisis de sistemas lineales e invariantes con el tiempo.**"
      ],
      "metadata": {
        "id": "k0x0i0YD4ukL"
      }
    },
    {
      "cell_type": "markdown",
      "source": [
        "**1.1 Consultar y realizar los ejercicios del cuaderno Definición transformada de la Laplace.**"
      ],
      "metadata": {
        "id": "Jy9zAFho5K16"
      }
    },
    {
      "cell_type": "markdown",
      "source": [
        "El desarrollo de este cuaderno se encuentra en la carpeta Transformada_Laplace."
      ],
      "metadata": {
        "id": "ecrdPFx05Zzy"
      }
    },
    {
      "cell_type": "markdown",
      "source": [
        "**1.2 Consultar y realizar los ejercicios del cuaderno Propiedades\n",
        "basicas transformada de la Laplace.**"
      ],
      "metadata": {
        "id": "ul30Y1nb8qqW"
      }
    },
    {
      "cell_type": "markdown",
      "source": [
        "El desarrollo de este cuaderno se encuentra en la carpeta Transformada_Laplace."
      ],
      "metadata": {
        "id": "cxNhrn-78yjj"
      }
    },
    {
      "cell_type": "markdown",
      "source": [
        "**1.3 Demuestre las siguientes propiedades (sin utilizar tablas de\n",
        "propiedades):**\n",
        "\n",
        "\n",
        "1.   $\\mathcal{L}\\{x(t - t_0)\\} = e^{-st_0}X(s)$\n",
        "\n",
        "2.   $\\mathcal{L}\\{x(at)\\} = \\frac{1}{|a|} X\\left(\\frac{s}{a}\\right)$\n",
        "\n",
        "3.   $\\mathcal{L}\\left\\{\\frac{dx(t)}{dt}\\right\\} = sX(s) - x(0)$\n",
        "\n",
        "4.   $\\mathcal{L}\\{x(t) \\ast y(t)\\} = X(s)Y(s)$\n",
        "\n",
        "\n",
        "\n"
      ],
      "metadata": {
        "id": "aapTtpdQQFve"
      }
    },
    {
      "cell_type": "markdown",
      "source": [
        "**1.   $\\mathcal{L}\\{x(t - t_0)\\} = e^{-st_0}X(s)$**\n",
        "\n",
        "**Demostración:**\n",
        "\n",
        "1. Definición de la Transformada de Laplace:\n",
        "   $$\n",
        "   \\mathcal{L}\\{x(t - t_0)\\} = \\int_{0}^{\\infty} x(t - t_0) e^{-st} \\, dt\n",
        "   $$\n",
        "\n",
        "2. Se hace un cambio de variable $\\ u = t - t_0$. Entonces, $\\ du = dt$ y cuando $\\ t = 0 $, $\\ u = -t_0 $; cuando $\\ t \\to \\infty$, $\\ u \\to \\infty $.\n",
        "\n",
        "   La integral se transforma en:\n",
        "   $$\n",
        "   \\mathcal{L}\\{x(t - t_0)\\} = \\int_{-t_0}^{\\infty} x(u) e^{-s(u + t_0)} \\, du\n",
        "   $$\n",
        "\n",
        "3. Se factoriza $e^{-st_0}$ fuera de la integral:\n",
        "   $$\n",
        "   \\mathcal{L}\\{x(t - t_0)\\} = e^{-st_0} \\int_{-t_0}^{\\infty} x(u) e^{-su} \\, du\n",
        "   $$\n",
        "\n",
        "4. Notamos que la integral es la transformada de Laplace de $x(u)$ desde 0 hasta $\\infty$. Por definición:\n",
        "   $$\n",
        "   \\int_{0}^{\\infty} x(u) e^{-su} \\, du = X(s)\n",
        "   $$\n",
        "\n",
        "5. Sin embargo, para $x(t - t_0)$, la integral debe comenzar en 0, no en $\\ -t_0$. Entonces:\n",
        "   $$\n",
        "   \\mathcal{L}\\{x(t - t_0)\\} = e^{-st_0} X(s)\n",
        "   $$"
      ],
      "metadata": {
        "id": "_DY0kJ6pQHq3"
      }
    },
    {
      "cell_type": "markdown",
      "source": [
        "**2. $\\mathcal{L}\\{x(at)\\} = \\frac{1}{|a|} X\\left(\\frac{s}{a}\\right)$**\n",
        "\n",
        "**Demostración:**\n",
        "\n",
        "1. Definición de la Transformada de Laplace:\n",
        "   $$\n",
        "   \\mathcal{L}\\{x(at)\\} = \\int_{0}^{\\infty} x(at) e^{-st} \\, dt\n",
        "   $$\n",
        "\n",
        "2. Se hace un cambio de variable $\\ u = at $. Entonces, $\\ du = a \\, dt $ y $\\ dt = \\frac{du}{a}$.\n",
        "\n",
        "   La integral se transforma en:\n",
        "   $$\n",
        "   \\mathcal{L}\\{x(at)\\} = \\int_{0}^{\\infty} x(u) e^{-s(u / a)} \\frac{du}{a}\n",
        "   $$\n",
        "\n",
        "3. Se Factoriza $\\frac{1}{a}$ fuera de la integral:\n",
        "   $$\n",
        "   \\mathcal{L}\\{x(at)\\} = \\frac{1}{|a|} \\int_{0}^{\\infty} x(u) e^{-\\frac{s}{a}u} \\, du\n",
        "   $$\n",
        "\n",
        "4. La integral es la transformada de Laplace de $x(u)$ con $s$ reemplazado por $\\frac{s}{a}$. Por definición:\n",
        "   $$\n",
        "   \\int_{0}^{\\infty} x(u) e^{-\\frac{s}{a}u} \\, du = X\\left(\\frac{s}{a}\\right)\n",
        "   $$\n",
        "\n",
        "5. Por lo tanto:\n",
        "   $$\n",
        "   \\mathcal{L}\\{x(at)\\} = \\frac{1}{|a|} X\\left(\\frac{s}{a}\\right)\n",
        "   $$"
      ],
      "metadata": {
        "id": "DuAUaVCHR0rv"
      }
    },
    {
      "cell_type": "markdown",
      "source": [
        "**3. $\\mathcal{L}\\left\\{\\frac{dx(t)}{dt}\\right\\} = sX(s) - x(0)$**\n",
        "\n",
        "**Demostración:**\n",
        "\n",
        "1. Definición de la Transformada de Laplace:\n",
        "   $$\n",
        "   \\mathcal{L}\\left\\{\\frac{dx(t)}{dt}\\right\\} = \\int_{0}^{\\infty} \\frac{dx(t)}{dt} e^{-st} \\, dt\n",
        "   $$\n",
        "\n",
        "2. Usamos integración por partes. Sea $\\ u = e^{-st} $ y $\\ dv = \\frac{dx(t)}{dt} \\, dt$. Entonces $\\ du = -se^{-st} \\, dt $ y $\\ v = x(t)$.\n",
        "\n",
        "   La integral se convierte en:\n",
        "   $$\n",
        "   \\int_{0}^{\\infty} \\frac{dx(t)}{dt} e^{-st} \\, dt = \\left. x(t) e^{-st} \\right|_{0}^{\\infty} - \\int_{0}^{\\infty} x(t) \\left(-se^{-st}\\right) \\, dt\n",
        "   $$\n",
        "\n",
        "3. Evaluamos el primer término:\n",
        "   - Cuando $\\ t \\to \\infty$, $\\ x(t) e^{-st}$ tiende a 0 si $\\ x(t)$ no crece exponencialmente más rápido que $\\ e^{st} $.\n",
        "   - Cuando $\\ t = 0 $, $\\ x(0) e^{-s \\cdot 0} = x(0)$.\n",
        "\n",
        "   Así:\n",
        "   $$\n",
        "   \\left. x(t) e^{-st} \\right|_{0}^{\\infty} = -x(0)\n",
        "   $$\n",
        "\n",
        "4. La segunda integral se convierte en:\n",
        "   $$\n",
        "   \\int_{0}^{\\infty} x(t) se^{-st} \\, dt = s \\int_{0}^{\\infty} x(t) e^{-st} \\, dt = sX(s)\n",
        "   $$\n",
        "\n",
        "5. Por lo tanto:\n",
        "   $$\n",
        "   \\mathcal{L}\\left\\{\\frac{dx(t)}{dt}\\right\\} = sX(s) - x(0)\n",
        "   $$\n",
        "\n",
        "El término $\\ x(0)$ representa el valor inicial de la función $\\ x(t)$, y es necesario para obtener la expresión completa.\n"
      ],
      "metadata": {
        "id": "E4hqCrxrSucF"
      }
    },
    {
      "cell_type": "markdown",
      "source": [
        "**4. $\\mathcal{L}\\{x(t) \\ast y(t)\\} = X(s)Y(s)$**\n",
        "\n",
        "**Demostración:**\n",
        "\n",
        "1. Definición de la Transformada de Laplace para la convolución:\n",
        "   $$\n",
        "   \\mathcal{L}\\{x(t) \\ast y(t)\\} = \\int_{0}^{\\infty} \\left(\\int_{0}^{t} x(\\tau) y(t - \\tau) \\, d\\tau \\right) e^{-st} \\, dt\n",
        "   $$\n",
        "\n",
        "2. Se intercambia el orden de integración:\n",
        "   $$\n",
        "   \\int_{0}^{\\infty} \\left(\\int_{0}^{t} x(\\tau) y(t - \\tau) \\, d\\tau \\right) e^{-st} \\, dt = \\int_{0}^{\\infty} x(\\tau) \\left(\\int_{\\tau}^{\\infty} y(t - \\tau) e^{-st} \\, dt \\right) d\\tau\n",
        "   $$\n",
        "\n",
        "3. Se hace un cambio de variable $\\ u = t - \\tau $. Entonces, $\\ du = dt$ y $\\ t = u + \\tau $.\n",
        "\n",
        "   La integral se transforma en:\n",
        "   $$\n",
        "   \\int_{\\tau}^{\\infty} y(t - \\tau) e^{-st} \\, dt = \\int_{0}^{\\infty} y(u) e^{-s(u + \\tau)} \\, du\n",
        "   $$\n",
        "\n",
        "4. Se factoriza $e^{-s\\tau}$ fuera de la integral:\n",
        "   $$\n",
        "   \\int_{0}^{\\infty} y(u) e^{-su} e^{-s\\tau} \\, du = e^{-s\\tau} \\int_{0}^{\\infty} y(u) e^{-su} \\, du = e^{-s\\tau} Y(s)\n",
        "   $$\n",
        "\n",
        "5. Finalmente, la integral se convierte en:\n",
        "   $$\n",
        "   \\int_{0}^{\\infty} x(\\tau) e^{-s\\tau} Y(s) \\, d\\tau = Y(s) \\int_{0}^{\\infty} x(\\tau) e^{-s\\tau} \\, d\\tau = Y(s) X(s)\n",
        "   $$\n",
        "\n",
        "6. Por lo tanto:\n",
        "   $$\n",
        "   \\mathcal{L}\\{x(t) \\ast y(t)\\} = X(s) Y(s)\n",
        "   $$\n",
        "   "
      ],
      "metadata": {
        "id": "ppQN7XV6UskI"
      }
    },
    {
      "cell_type": "markdown",
      "source": [
        "**1.4 Encuentre la transformada de Laplace, dibuje el esquema\n",
        "de polos y ceros y la region de convergencia (ROC), de las siguientes señales:**  \n",
        "\n",
        "1.   $e^{-2t}u(t) + e^{-3t}u(t)$\n",
        "\n",
        "2.   $e^{2t}u(t) + e^{-3t}u(-t)$\n",
        "\n",
        "3.   $e^{-a|t|}$\n",
        "\n",
        "4.   $e^{-2t}[u(t) - u(t - 5)]$"
      ],
      "metadata": {
        "id": "ZRNk_ODcGh-n"
      }
    },
    {
      "cell_type": "markdown",
      "source": [
        "**1. $e^{-2t}u(t) + e^{-3t}u(t)$**\n",
        "\n",
        "- **Transformada de Laplace**:\n",
        "     $$\n",
        "     \\mathcal{L}\\{e^{-2t}u(t)\\} = \\frac{1}{s + 2}\n",
        "     $$\n",
        "     $$\n",
        "     \\mathcal{L}\\{e^{-3t}u(t)\\} = \\frac{1}{s + 3}\n",
        "     $$\n",
        "  Entonces:\n",
        "     $$\n",
        "     \\mathcal{L}\\{e^{-2t}u(t) + e^{-3t}u(t)\\} = \\frac{1}{s + 2} + \\frac{1}{s + 3}\n",
        "     $$\n",
        "\n",
        "- **Esquema de Polos y Ceros**:\n",
        "     - Polos: $s = -2$, $s = -3$\n",
        "     - Ceros: Ninguno\n",
        "\n",
        "- **ROC**: $Re(s) > -2$\n",
        "\n",
        "\n",
        "4. **$e^{-2t}[u(t) - u(t - 5)]$**\n",
        "\n",
        "   - **Transformada de Laplace**:\n",
        "     $$\n",
        "     \\mathcal{L}\\{e^{-2t}[u(t) - u(t - 5)]\\} = \\frac{1 - e^{-5(s + 2)}}{s + 2}\n",
        "     $$\n",
        "\n",
        "   - **Esquema de Polos y Ceros**:\n",
        "     - Polos: $s = -2$\n",
        "     - Ceros: Ninguno\n",
        "\n",
        "   - **ROC**: $Re(s) > -2$\n"
      ],
      "metadata": {
        "id": "VP_jX-_tG0OZ"
      }
    },
    {
      "cell_type": "markdown",
      "source": [
        "**2. $e^{2t}u(t) + e^{-3t}u(-t)$**\n",
        "\n",
        "- **Transformada de Laplace**:\n",
        "     $$\n",
        "     \\mathcal{L}\\{e^{2t}u(t)\\} = \\frac{1}{s - 2}\n",
        "     $$\n",
        "     Para $e^{-3t}u(-t)$, usamos la transformada de Laplace bilateral:\n",
        "     $$\n",
        "     \\mathcal{L}\\{e^{-3t}u(-t)\\} = \\frac{1}{s + 3}\n",
        "     $$\n",
        "Entonces:\n",
        "     $$\n",
        "     \\mathcal{L}\\{e^{2t}u(t) + e^{-3t}u(-t)\\} = \\frac{1}{s - 2} + \\frac{1}{s + 3}\n",
        "     $$\n",
        "\n",
        "- **Esquema de Polos y Ceros**:\n",
        "     - Polos: $s = 2$, $s = -3$\n",
        "     - Ceros: Ninguno\n",
        "\n",
        "- **ROC**: $Re(s) > 2$"
      ],
      "metadata": {
        "id": "r-zA1_tELPyk"
      }
    },
    {
      "cell_type": "markdown",
      "source": [
        "**3. $e^{-a|t|}$**\n",
        "\n",
        "- **Transformada de Laplace**:\n",
        "     $$\n",
        "     \\mathcal{L}\\{e^{-a|t|}\\} = \\frac{2}{s^2 + a^2}\n",
        "     $$\n",
        "\n",
        "- **Esquema de Polos y Ceros**:\n",
        "     - Polos: $s = \\pm j a$\n",
        "     - Ceros: Ninguno\n",
        "\n",
        "- **ROC**: $Re(s) > 0$"
      ],
      "metadata": {
        "id": "k2JQ0w8ZLhrO"
      }
    },
    {
      "cell_type": "markdown",
      "source": [
        "**4. $e^{-2t}[u(t) - u(t - 5)]$**\n",
        "\n",
        "- **Transformada de Laplace**:\n",
        "     $$\n",
        "     \\mathcal{L}\\{e^{-2t}[u(t) - u(t - 5)]\\} = \\frac{1 - e^{-5(s + 2)}}{s + 2}\n",
        "     $$\n",
        "\n",
        "- **Esquema de Polos y Ceros**:\n",
        "     - Polos: $s = -2$\n",
        "     - Ceros: Ninguno\n",
        "\n",
        "- **ROC**: $Re(s) > -2$"
      ],
      "metadata": {
        "id": "xUgvLnW4Lo1J"
      }
    },
    {
      "cell_type": "markdown",
      "source": [
        "**1.5 Consultar y realizar los ejercicios del cuaderno Transformada inversa de Laplace.**"
      ],
      "metadata": {
        "id": "CnMhO6KG82F0"
      }
    },
    {
      "cell_type": "markdown",
      "source": [
        "El desarrollo de este cuaderno se encuentra en la carpeta Transformada_Laplace."
      ],
      "metadata": {
        "id": "ryc44I1H8-CR"
      }
    },
    {
      "cell_type": "markdown",
      "source": [
        "**1.6 Consultar y realizar los ejercicios del cuaderno Autofunciones y SLITs.**\n"
      ],
      "metadata": {
        "id": "dgeEfbRf90ge"
      }
    },
    {
      "cell_type": "markdown",
      "source": [
        "El desarrollo de este cuaderno se encuentra en la carpeta Transformada_Laplace y la carpeta SLIT."
      ],
      "metadata": {
        "id": "PaEi4hx7978Z"
      }
    },
    {
      "cell_type": "markdown",
      "source": [
        "# **2. Transformada Z y filtros digitales.**"
      ],
      "metadata": {
        "id": "ba5irsoI-WAH"
      }
    },
    {
      "cell_type": "markdown",
      "source": [
        "**2.1 Consulte en que consiste la transformada Z. Explique las semejanzas y diferencias entre la serie de Fourier, transformada de Fourier en tiempo continuo y discreto, transformada de Laplace y la transformada Z.**"
      ],
      "metadata": {
        "id": "mt54wy5O_udl"
      }
    },
    {
      "cell_type": "markdown",
      "source": [
        "**Definición de la Transformada Z**\n",
        "\n",
        "La transformada Z es una herramienta matemática utilizada en el análisis y diseño de sistemas lineales discretos en tiempo, similar a cómo la transformada de Laplace se utiliza para sistemas continuos. Se aplica a señales y sistemas en tiempo discreto y es fundamental en el procesamiento digital de señales y el control digital.\n",
        "\n",
        "Para una señal discreta $\\ x[n]$, la transformada Z se define como:\n",
        "\n",
        "$$\n",
        "X(z) = \\mathcal{Z}\\{x[n]\\} = \\sum_{n=-\\infty}^{\\infty} x[n] z^{-n}\n",
        "$$\n",
        "\n",
        "donde:\n",
        "- $\\ x[n]$ es la secuencia de entrada (señal en tiempo discreto),\n",
        "- $\\ z $ es una variable compleja que se puede representar como $\\ z = re^{j\\omega}$,\n",
        "- $\\ X(z) $ es la transformada Z de la señal.\n",
        "\n"
      ],
      "metadata": {
        "id": "N5wYKECp_62S"
      }
    },
    {
      "cell_type": "markdown",
      "source": [
        "**Comparación entre Serie de Fourier, Transformada de Fourier, Transformada de Laplace y Transformada Z**\n",
        "\n",
        "| Característica                                        | Serie de Fourier                                | Transformada de Fourier (Tiempo Continuo)    | Transformada de Fourier (Tiempo Discreto)    | Transformada de Laplace                       | Transformada Z                                |\n",
        "|-------------------------------------------------------|-------------------------------------------------|---------------------------------------------|---------------------------------------------|----------------------------------------------|----------------------------------------------|\n",
        "| **Definición**                                        | Representa una señal periódica como suma infinita de senos y cosenos. | Representa una señal no periódica en el dominio de la frecuencia. | Representa señales discretas en frecuencia continua (señales periódicas). | Generaliza la transformada de Fourier para señales en tiempo continuo y sistemas no periódicos. | Generaliza la transformada de Fourier discreta para señales y sistemas discretos. |\n",
        "| **Dominio Temporal**                                  | Tiempo continuo y **periódico**                 | Tiempo continuo y **aperiódico**            | Tiempo discreto y **aperiódico**            | Tiempo continuo y **aperiódico**             | Tiempo discreto y **aperiódico**             |\n",
        "| **Dominio de la Frecuencia**                          | Serie discreta de armónicos (frecuencia discreta). | Frecuencia continua ($ \\omega $)          | Frecuencia continua ($ \\Omega $)          | Plano complejo (s) con parte real y parte imaginaria. | Plano complejo (z) con parte real e imaginaria. |\n",
        "| **Expresión Matemática**                              | $ x(t) = \\sum_{n=-\\infty}^{\\infty} C_n e^{jn\\omega_0 t} $ | $ X(j\\omega) = \\int_{-\\infty}^{\\infty} x(t) e^{-j\\omega t} dt $ | $ X(e^{j\\Omega}) = \\sum_{n=-\\infty}^{\\infty} x[n] e^{-j\\Omega n} $ | $ X(s) = \\int_{-\\infty}^{\\infty} x(t) e^{-st} dt $ | $ X(z) = \\sum_{n=-\\infty}^{\\infty} x[n] z^{-n} $ |\n",
        "| **Región de Convergencia**                            | No aplica (señales periódicas)                  | Toda la línea de frecuencia ($ \\omega $)  | Solo para señales estables                  | Depende de la ubicación de los polos en el plano $ s $. | Depende de la ubicación de los polos en el plano $ z $. |\n",
        "| **Aplicación Principal**                              | Análisis de señales periódicas y su contenido armónico. | Análisis de señales aperiódicas y frecuencias contenidas. | Análisis de señales discretas y digitales.  | Análisis de estabilidad y respuesta de sistemas continuos. | Análisis de sistemas discretos en tiempo. |\n",
        "| **Periodicidad en el Dominio de la Frecuencia**        | No hay periodicidad en la frecuencia.            | No hay periodicidad en la frecuencia.        | La frecuencia es periódica con periodo $ 2\\pi $. | No hay periodicidad en la frecuencia.        | La frecuencia es periódica en el círculo unitario. |\n",
        "| **Relación con la Transformada de Fourier**            | Es una versión discreta de la transformada de Fourier para señales periódicas. | Es el caso general de la serie de Fourier para señales aperiódicas. | Es una versión discreta de la transformada de Fourier en tiempo continuo. | Generaliza la transformada de Fourier añadiendo una componente real en el dominio $ s $. | Generaliza la transformada de Fourier discreta añadiendo una componente real en el dominio $ z $. |\n",
        "| **Utilización**                                       | Filtros de audio, análisis armónico de señales periódicas. | Procesamiento de señales, sistemas de telecomunicaciones. | Procesamiento de señales digitales.         | Control de sistemas y análisis de estabilidad. | Control digital, análisis de sistemas discretos. |\n",
        "\n",
        "\n"
      ],
      "metadata": {
        "id": "-o1rFhu9Boal"
      }
    },
    {
      "cell_type": "markdown",
      "source": [
        "**2.3  Consulte en que consisten los filtros de respuesta impulso finita (Finite impulse response - FIR), y los filtros de respuesta impulso infinita (infinite impulse response - IIR). Realice un paralelo entre los FIR, IIR y los sistemas con y sin realimentación.**"
      ],
      "metadata": {
        "id": "J7Mpkdq4DStz"
      }
    },
    {
      "cell_type": "markdown",
      "source": [
        "**Filtros de Respuesta al Impulso Finita (FIR) y Filtros de Respuesta al Impulso Infinita (IIR)**\n",
        "\n",
        "**Filtros de Respuesta al Impulso Finita (FIR)**\n",
        "\n",
        "1. **Definición**:\n",
        "- Los filtros FIR tienen una respuesta al impulso que se extingue después de un número finito de muestras.\n",
        "- Su salida depende únicamente de las entradas actuales y pasadas, no de las salidas anteriores.\n",
        "\n",
        "2. **Ecuación de la Diferencia**:\n",
        "- La ecuación general para un filtro FIR es:\n",
        "  $$\n",
        "  y[n] = \\sum_{k=0}^{N-1} h[k] x[n-k]\n",
        "  $$\n",
        "  \n",
        "  donde $ y[n] $ es la salida, $ x[n] $ es la entrada, $ h[k] $ son los coeficientes del filtro, y $ N $ es el número de coeficientes del filtro.\n",
        "\n",
        "3. **Propiedades**:\n",
        "- **Estabilidad**: Siempre estable porque no hay retroalimentación.\n",
        "- **Linealidad de fase**: Se pueden diseñar para tener una respuesta de fase lineal.\n",
        "- **Complejidad Computacional**: Generalmente mayor para obtener la misma respuesta en frecuencia en comparación con filtros IIR.\n",
        "\n",
        "4. **Aplicaciones**:\n",
        "- Son utilizados cuando es necesario tener una fase lineal y una respuesta de frecuencia específica. Por ejemplo, en aplicaciones de audio donde la distorsión de fase debe ser mínima.\n",
        "\n",
        "**Filtros de Respuesta al Impulso Infinita (IIR)**\n",
        "\n",
        "1. **Definición**:\n",
        "- Los filtros IIR tienen una respuesta al impulso que teóricamente se extiende infinitamente en el tiempo.\n",
        "- Su salida depende tanto de las entradas actuales y pasadas como de las salidas anteriores.\n",
        "\n",
        "2. **Ecuación de la Diferencia**:\n",
        "- La ecuación general para un filtro IIR es:\n",
        "\n",
        " $$y[n] = \\sum_{k=0}^{M} b[k] x[n-k] - \\sum_{j=1}^{N} a[j] y[n-j]$$\n",
        "\n",
        " donde $ b[k] $ son los coeficientes de la parte de la entrada, $ a[j] $ son los coeficientes de la parte de la salida, $ M $ es el orden del filtro en términos de la entrada, y $ N $ es el orden del filtro en términos de la salida.\n",
        "\n",
        "3. **Propiedades**:\n",
        "- **Estabilidad**: Puede ser inestable si los polos del filtro están fuera del círculo unitario en el plano z.\n",
        "- **Linealidad de fase**: No se pueden diseñar para tener una respuesta de fase completamente lineal.\n",
        "- **Complejidad Computacional**: Generalmente menor que los filtros FIR para una respuesta en frecuencia similar, debido a la retroalimentación.\n",
        "\n",
        "4. **Aplicaciones**:\n",
        "- Se usan comúnmente en aplicaciones donde se necesita una implementación eficiente con menos requerimientos computacionales. Por ejemplo, en sistemas de procesamiento de señales en tiempo real donde la eficiencia es crucial.\n",
        "\n",
        "\n"
      ],
      "metadata": {
        "id": "rZbdWvEgDg7S"
      }
    },
    {
      "cell_type": "markdown",
      "source": [
        "**Filtros FIR vs. Filtros IIR y Sistemas con vs. sin Realimentación**\n",
        "\n",
        "| **Aspecto**                   | **Filtros FIR**                                  | **Filtros IIR**                                  | **Sistemas sin Realimentación**                | **Sistemas con Realimentación**               |\n",
        "|-------------------------------|--------------------------------------------------|--------------------------------------------------|------------------------------------------------|------------------------------------------------|\n",
        "| **Definición**                | Respuesta al impulso finita.                    | Respuesta al impulso infinita.                  | No incluyen retroalimentación.                 | Incluyen retroalimentación.                   |\n",
        "| **Ecuación de la Diferencia** | $ y[n] = \\sum_{k=0}^{N-1} h[k] x[n-k] $         | $ y[n] = \\sum_{k=0}^{M} b[k] x[n-k] - \\sum_{j=1}^{N} a[j] y[n-j] $ | -                                              | -                                              |\n",
        "| **Estabilidad**              | Siempre estable.                                | Puede ser inestable si los polos están fuera del círculo unitario. | Siempre estable.                                | Puede ser inestable.                          |\n",
        "| **Linealidad de Fase**        | Posible con diseño adecuado.                    | No siempre posible.                             | Posible con filtros FIR.                       | No siempre posible.                           |\n",
        "| **Complejidad Computacional** | Generalmente mayor.                             | Generalmente menor.                             | Generalmente mayor (para filtros FIR).         | Generalmente menor (para filtros IIR).        |\n",
        "| **Aplicaciones**             | Aplicaciones que requieren fase lineal.         | Aplicaciones que requieren eficiencia computacional. | Fase lineal posible (con FIR).                  | Eficiencia computacional (con IIR).           |\n",
        "\n"
      ],
      "metadata": {
        "id": "-NDvZl59FQyV"
      }
    },
    {
      "cell_type": "markdown",
      "source": [
        "**2.4 Presente una comparacion entre las estrategias de diseño mediante invarianza al impulso y transformacion bilineal.**"
      ],
      "metadata": {
        "id": "mMRPkSIb-iTV"
      }
    },
    {
      "cell_type": "markdown",
      "source": [
        "**Comparación entre Invarianza al Impulso y Transformación Bilineal**\n",
        "\n",
        "| Característica                         | Invarianza al Impulso                         | Transformación Bilineal                      |\n",
        "|----------------------------------------|----------------------------------------------|---------------------------------------------|\n",
        "| **Definición**                         | Método que convierte sistemas continuos en discretos manteniendo la respuesta al impulso. | Técnica que mapea un sistema analógico a uno digital mediante la transformación de la frecuencia. |\n",
        "| **Alias**                              | Puede presentar aliasing, especialmente para frecuencias altas, ya que no hay control sobre el mapeo de frecuencias. | Evita el aliasing mediante una transformación que mapea las frecuencias continuas en el rango discreto de manera no lineal. |\n",
        "| **Relación de Frecuencias**            | Las frecuencias en el dominio digital no coinciden directamente con las del sistema continuo. | Garantiza un mapeo de las frecuencias analógicas $\\omega$ a frecuencias digitales $\\Omega$ a través de la relación:  $\\Omega = 2 \\tan^{-1}(\\omega T / 2)$. |\n",
        "| **Aplicación**                         | Adecuado para sistemas donde la respuesta impulsiva es clave. | Adecuado para sistemas de control y diseño de filtros con frecuencias específicas. |\n",
        "| **Distorsión de la Frecuencia**        | Puede generar distorsión, especialmente en frecuencias cercanas a la frecuencia de muestreo. | La distorsión se minimiza debido a la transformación no lineal que distribuye las frecuencias uniformemente. |\n",
        "| **Complejidad Computacional**          | Menor complejidad, pero con limitaciones en precisión para algunas aplicaciones. | Mayor complejidad debido a la transformación no lineal, pero ofrece mejor precisión en el mapeo de frecuencias. |\n",
        "| **Preservación de la Estabilidad**     | La estabilidad no siempre se preserva en la transformación. | La estabilidad se preserva al mapear los polos del sistema analógico dentro del círculo unitario. |\n",
        "| **Uso Común**                          | Filtros con bajas frecuencias de corte y sistemas donde el aliasing no es un problema. | Diseño de filtros digitales y aplicaciones donde es crucial evitar aliasing y preservar la respuesta en frecuencia. |\n",
        "\n"
      ],
      "metadata": {
        "id": "msjtCcJF-vbM"
      }
    }
  ]
}