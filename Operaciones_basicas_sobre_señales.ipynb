{
  "nbformat": 4,
  "nbformat_minor": 0,
  "metadata": {
    "colab": {
      "provenance": [],
      "authorship_tag": "ABX9TyP+i+S0MogTatoAqpvN+wMn",
      "include_colab_link": true
    },
    "kernelspec": {
      "name": "python3",
      "display_name": "Python 3"
    },
    "language_info": {
      "name": "python"
    }
  },
  "cells": [
    {
      "cell_type": "markdown",
      "metadata": {
        "id": "view-in-github",
        "colab_type": "text"
      },
      "source": [
        "<a href=\"https://colab.research.google.com/github/Cristian2820/Se-ales-y-sistemas/blob/main/Operaciones_basicas_sobre_se%C3%B1ales.ipynb\" target=\"_parent\"><img src=\"https://colab.research.google.com/assets/colab-badge.svg\" alt=\"Open In Colab\"/></a>"
      ]
    },
    {
      "cell_type": "markdown",
      "source": [
        "# Operaciones basicas sobre señales"
      ],
      "metadata": {
        "id": "it6GtdmnHHrq"
      }
    },
    {
      "cell_type": "markdown",
      "source": [
        "# Señal comprimida\n",
        "\n",
        "\n"
      ],
      "metadata": {
        "id": "tTYUP1h4GV6i"
      }
    },
    {
      "cell_type": "code",
      "source": [
        "import sympy as sym\n",
        "\n",
        "t, a = sym.symbols('t a', real=True)\n",
        "\n",
        "# Definición de la señal original\n",
        "rect = sym.Heaviside(t + 0.5) - sym.Heaviside(t - 0.5)\n",
        "x = rect.subs(t, t-1/2) + 2/3*rect.subs(t, t-3/2) + 1/3*rect.subs(t, t-5/2)\n",
        "\n",
        "# Definición de la señal comprimida\n",
        "y = x.subs(t, a*t)\n",
        "\n",
        "# Graficar la señal comprimida\n",
        "sym.plot(y.subs(a, 1), (t, -7, 7), ylim=[-0.2, 1.2], ylabel=r'$y(t)$');"
      ],
      "metadata": {
        "id": "Tg_YpGK-GXFL"
      },
      "execution_count": null,
      "outputs": []
    },
    {
      "cell_type": "markdown",
      "source": [
        "# Señal escala e invertida"
      ],
      "metadata": {
        "id": "R9fJJ8xgGiKy"
      }
    },
    {
      "cell_type": "code",
      "source": [
        "import sympy as sym\n",
        "\n",
        "t, a = sym.symbols('t a', real=True)\n",
        "\n",
        "# Definición de la señal original\n",
        "rect = sym.Heaviside(t + 0.5) - sym.Heaviside(t - 0.5)\n",
        "x = rect.subs(t, t-1/2) + 2/3*rect.subs(t, t-3/2) + 1/3*rect.subs(t, t-5/2)\n",
        "\n",
        "# Definición de la señal escalada e invertida\n",
        "y = x.subs(t, -a*t)\n",
        "\n",
        "# Graficar la señal escalada e invertida\n",
        "sym.plot(y.subs(a, 2), (t, -7, 7), ylim=[-0.2, 1.2], ylabel=r'$y(t)$');"
      ],
      "metadata": {
        "id": "b7zsh5yZGow0"
      },
      "execution_count": null,
      "outputs": []
    },
    {
      "cell_type": "markdown",
      "source": [],
      "metadata": {
        "id": "akOo_8ACGnmT"
      }
    },
    {
      "cell_type": "markdown",
      "source": [
        "# Señal en t=0"
      ],
      "metadata": {
        "id": "qY9SPgCpGzvS"
      }
    },
    {
      "cell_type": "code",
      "source": [
        "import sympy as sym\n",
        "\n",
        "t, tau = sym.symbols('t tau', real=True)\n",
        "\n",
        "# Definición de la señal original\n",
        "rect = sym.Heaviside(t + 0.5) - sym.Heaviside(t - 0.5)\n",
        "x = rect.subs(t, t-1/2) + 2/3*rect.subs(t, t-3/2) + 1/3*rect.subs(t, t-5/2)\n",
        "\n",
        "# Definición de la señal con inicio en t=0\n",
        "y = x.subs(t, tau - t)\n",
        "\n",
        "# Graficar la señal original y la señal con inicio en t=0\n",
        "px = sym.plot(x, (t, -7, 7), ylim=[-0.2, 1.2], ylabel=r'$y(t)$', line_color='gray', show=False)\n",
        "py = sym.plot(y.subs(tau, 0), (t, -7, 7), ylim=[-0.2, 1.2], ylabel=r'$y(t)$', show=False)\n",
        "px.extend(py)\n",
        "px.show()"
      ],
      "metadata": {
        "id": "QC5B-5niG5eJ"
      },
      "execution_count": null,
      "outputs": []
    },
    {
      "cell_type": "markdown",
      "source": [
        "# Cambio temporal"
      ],
      "metadata": {
        "id": "LftfuaAcG8kx"
      }
    },
    {
      "cell_type": "code",
      "source": [
        "import sympy as sym\n",
        "\n",
        "t, tau = sym.symbols('t tau', real=True)\n",
        "\n",
        "# Definición de la señal original\n",
        "rect = sym.Heaviside(t + 0.5) - sym.Heaviside(t - 0.5)\n",
        "x = rect.subs(t, t-1/2) + 2/3*rect.subs(t, t-3/2) + 1/3*rect.subs(t, t-5/2)\n",
        "\n",
        "# (i) Inversión temporal\n",
        "y_inversion = x.subs(t, -t)\n",
        "\n",
        "# (ii) Desplazamiento temporal\n",
        "y_desplazamiento = y_inversion.subs(t, t - tau)\n",
        "\n",
        "# Graficar la señal original, la señal invertida y la señal con desplazamiento temporal\n",
        "px = sym.plot(x, (t, -7, 7), ylim=[-0.2, 1.2], ylabel=r'$y(t)$', line_color='gray', show=False)\n",
        "py1 = sym.plot(y_inversion, (t, -7, 7), ylim=[-0.2, 1.2], ylabel=r'$y(t)$', show=False)\n",
        "py2 = sym.plot(y_desplazamiento.subs(tau, 0), (t, -7, 7), ylim=[-0.2, 1.2], ylabel=r'$y(t)$', show=False)\n",
        "px.extend(py1)\n",
        "px.extend(py2)\n",
        "px.show()"
      ],
      "metadata": {
        "id": "pe1Nd79pG8Jg"
      },
      "execution_count": null,
      "outputs": []
    }
  ]
}