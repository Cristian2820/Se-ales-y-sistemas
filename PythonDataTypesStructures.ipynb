{
  "nbformat": 4,
  "nbformat_minor": 0,
  "metadata": {
    "colab": {
      "provenance": [],
      "authorship_tag": "ABX9TyMyr1UCb//xTXc3x8Bza/37",
      "include_colab_link": true
    },
    "kernelspec": {
      "name": "python3",
      "display_name": "Python 3"
    },
    "language_info": {
      "name": "python"
    }
  },
  "cells": [
    {
      "cell_type": "markdown",
      "metadata": {
        "id": "view-in-github",
        "colab_type": "text"
      },
      "source": [
        "<a href=\"https://colab.research.google.com/github/Cristian2820/Senales-y-sistemas/blob/main/PythonDataTypesStructures.ipynb\" target=\"_parent\"><img src=\"https://colab.research.google.com/assets/colab-badge.svg\" alt=\"Open In Colab\"/></a>"
      ]
    },
    {
      "cell_type": "markdown",
      "source": [
        "**Write a function that takes a list of numbers as input and returns the sum of all the odd numbers in the list. For example, if the input is [1, 2, 3, 4, 5, 6], the function should return 9 (which is the sum of 1, 3, and 5).**"
      ],
      "metadata": {
        "id": "DOkv0bSql6VF"
      }
    },
    {
      "cell_type": "code",
      "source": [
        "\n",
        "def sum_odd_numbers(number_list):\n",
        "    # Inicializar la suma en 0\n",
        "    total_sum = 0\n",
        "\n",
        "    # Recorrer cada número en la lista\n",
        "    for number in number_list:\n",
        "        # Verificar si el número es impar\n",
        "        if number % 2 != 0:\n",
        "            # Agregar el número impar a la suma total\n",
        "            total_sum += number\n",
        "\n",
        "    # Retornar la suma total de los números impares\n",
        "    return total_sum\n",
        "\n",
        "# Ejemplo de uso\n",
        "numbers = [1, 2, 3, 4, 5, 6]\n",
        "print(sum_odd_numbers(numbers))  # Salida: 9"
      ],
      "metadata": {
        "id": "B2NmocP1oIhl"
      },
      "execution_count": null,
      "outputs": []
    },
    {
      "cell_type": "markdown",
      "source": [
        "**Write a function that takes a list of words as input and returns a dictionary that counts the number of times each word appears in the list. For example, if the input is ['apple', 'banana', 'apple', 'cherry', 'cherry', 'cherry'], the function should return {'apple': 2, 'banana': 1, 'cherry': 3}.**"
      ],
      "metadata": {
        "id": "wMFZO4y7oJCB"
      }
    },
    {
      "cell_type": "code",
      "source": [
        "def count_words(word_list):\n",
        "    # Crear un diccionario vacío para almacenar los conteos\n",
        "    word_count = {}\n",
        "\n",
        "    # Recorrer cada palabra en la lista\n",
        "    for word in word_list:\n",
        "        # Si la palabra ya está en el diccionario, incrementar su conteo\n",
        "        if word in word_count:\n",
        "            word_count[word] += 1\n",
        "        # Si la palabra no está en el diccionario, agregarla con conteo 1\n",
        "        else:\n",
        "            word_count[word] = 1\n",
        "\n",
        "    # Retornar el diccionario con los conteos\n",
        "    return word_count\n",
        "\n",
        "# Ejemplo de uso\n",
        "words = ['apple', 'banana', 'apple', 'cherry', 'cherry', 'cherry']\n",
        "print(count_words(words))"
      ],
      "metadata": {
        "id": "OZ4i8oGiohj8"
      },
      "execution_count": null,
      "outputs": []
    }
  ]
}