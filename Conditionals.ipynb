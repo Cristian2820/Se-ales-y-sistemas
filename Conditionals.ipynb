{
  "nbformat": 4,
  "nbformat_minor": 0,
  "metadata": {
    "colab": {
      "provenance": [],
      "include_colab_link": true
    },
    "kernelspec": {
      "name": "python3",
      "display_name": "Python 3"
    },
    "language_info": {
      "name": "python"
    }
  },
  "cells": [
    {
      "cell_type": "markdown",
      "metadata": {
        "id": "view-in-github",
        "colab_type": "text"
      },
      "source": [
        "<a href=\"https://colab.research.google.com/github/Cristian2820/Senales-y-sistemas/blob/main/Conditionals.ipynb\" target=\"_parent\"><img src=\"https://colab.research.google.com/assets/colab-badge.svg\" alt=\"Open In Colab\"/></a>"
      ]
    },
    {
      "cell_type": "markdown",
      "source": [
        "**In order to pay a certain tax, you must be over 16 years old and have a monthly income equal to or greater than €1000. Write a program that asks the user for their age and monthly income, and displays whether the user has to pay the tax or not.**"
      ],
      "metadata": {
        "id": "4h80TmFtcvWB"
      }
    },
    {
      "cell_type": "code",
      "source": [
        "\n",
        "# Solicitar la edad del usuario\n",
        "edad = int(input(\"Por favor, introduce tu edad: \"))\n",
        "\n",
        "# Solicitar los ingresos mensuales del usuario\n",
        "ingresos = float(input(\"Por favor, introduce tus ingresos mensuales (€): \"))\n",
        "\n",
        "# Verificar si el usuario debe pagar el impuesto\n",
        "if edad > 16 and ingresos >= 1000:\n",
        "    print(\"Debes pagar el impuesto.\")\n",
        "else:\n",
        "    print(\"No debes pagar el impuesto.\")"
      ],
      "metadata": {
        "id": "jKvxR4P_dBS6",
        "outputId": "67235f44-0ee3-4f55-80db-ea209330bdde",
        "colab": {
          "base_uri": "https://localhost:8080/"
        }
      },
      "execution_count": null,
      "outputs": [
        {
          "output_type": "stream",
          "name": "stdout",
          "text": [
            "Por favor, introduce tu edad: 16\n",
            "Por favor, introduce tus ingresos mensuales (€): 800\n",
            "No debes pagar el impuesto.\n"
          ]
        }
      ]
    },
    {
      "cell_type": "markdown",
      "source": [
        "**The Bella Napoli pizzeria offers vegetarian and non-vegetarian pizzas to its customers. The ingredients for each type of pizza are as follows:\n",
        "Vegetarian ingredients: Bell peppers and tofu.\n",
        "\n",
        "Non-vegetarian ingredients: Pepperoni, Ham, and Salmon.\n",
        "\n",
        "Write a program that asks the user if they want a vegetarian pizza or not, and based on their response, displays a menu with the available ingredients for them to choose from. Only one additional ingredient can be chosen besides the mozzarella and tomato, which are included in all pizzas. Finally, the program should display whether the chosen pizza is vegetarian or not, along with all the ingredients it contains.**"
      ],
      "metadata": {
        "id": "G4N0zGNLdSZb"
      }
    },
    {
      "cell_type": "code",
      "source": [
        "\n",
        "# Preguntar si el usuario quiere una pizza vegetariana\n",
        "respuesta = input(\"¿Quieres una pizza vegetariana? (sí/no): \").strip().lower()\n",
        "\n",
        "# Definir los ingredientes disponibles\n",
        "ingredientes_vegetarianos = [\"Pimiento\", \"Tofu\"]\n",
        "ingredientes_no_vegetarianos = [\"Pepperoni\", \"Jamón\", \"Salmón\"]\n",
        "\n",
        "# Mostrar el menú de ingredientes según la elección del usuario\n",
        "if respuesta == \"sí\":\n",
        "    print(\"Ingredientes disponibles (vegetarianos):\")\n",
        "    for i, ingrediente in enumerate(ingredientes_vegetarianos, 1):\n",
        "        print(f\"{i}. {ingrediente}\")\n",
        "    tipo_pizza = \"vegetariana\"\n",
        "else:\n",
        "    print(\"Ingredientes disponibles (no vegetarianos):\")\n",
        "    for i, ingrediente in enumerate(ingredientes_no_vegetarianos, 1):\n",
        "        print(f\"{i}. {ingrediente}\")\n",
        "    tipo_pizza = \"no vegetariana\"\n",
        "\n",
        "# Solicitar al usuario que elija un ingrediente adicional\n",
        "eleccion = int(input(\"Elige un ingrediente adicional (introduce el número correspondiente): \"))\n",
        "\n",
        "# Determinar el ingrediente elegido según la lista correspondiente\n",
        "if respuesta == \"sí\":\n",
        "    ingrediente_elegido = ingredientes_vegetarianos[eleccion - 1]\n",
        "else:\n",
        "    ingrediente_elegido = ingredientes_no_vegetarianos[eleccion - 1]\n",
        "\n",
        "# Mostrar el resultado final\n",
        "print(\"\\nTu pizza es \" + tipo_pizza + \".\")\n",
        "print(\"Ingredientes: Mozzarella, Tomate, \" + ingrediente_elegido + \".\")"
      ],
      "metadata": {
        "id": "tuQZLK34eIdc",
        "colab": {
          "base_uri": "https://localhost:8080/"
        },
        "outputId": "a5a90051-b2a8-4073-d0c3-b4ff0e3abdf0"
      },
      "execution_count": null,
      "outputs": [
        {
          "output_type": "stream",
          "name": "stdout",
          "text": [
            "¿Quieres una pizza vegetariana? (sí/no): Si\n",
            "Ingredientes disponibles (no vegetarianos):\n",
            "1. Pepperoni\n",
            "2. Jamón\n",
            "3. Salmón\n",
            "Elige un ingrediente adicional (introduce el número correspondiente): 2\n",
            "\n",
            "Tu pizza es no vegetariana.\n",
            "Ingredientes: Mozzarella, Tomate, Jamón.\n"
          ]
        }
      ]
    }
  ]
}